{
 "cells": [
  {
   "cell_type": "markdown",
   "id": "8cedaab6-6c10-495d-a28e-fc1517b468c8",
   "metadata": {},
   "source": [
    "# 3.1 IC Deriving New Variables"
   ]
  },
  {
   "cell_type": "markdown",
   "id": "9dca59b2-08a1-4c2d-866a-27b0cd6a7cbe",
   "metadata": {},
   "source": [
    "## Contents\n",
    "### Import libraries and data sets\n",
    "### Create subset with 1 million rows\n",
    "### User defined functions\n",
    "### Using loc() function\n",
    "### Loc() derivation on entire data set\n",
    "### If statements with for loops\n",
    "### Deriving the \"busiest_days\" variable\n",
    "### Identify busiest hours of the day\n",
    "### Export as pickle"
   ]
  },
  {
   "cell_type": "markdown",
   "id": "ad745c20-ec24-4253-9e3f-cdc8a584a6a2",
   "metadata": {},
   "source": [
    "## Import libraries and data sets"
   ]
  },
  {
   "cell_type": "code",
   "execution_count": 1,
   "id": "852ba602-0b04-4e4d-88f2-6ca8932a28f8",
   "metadata": {},
   "outputs": [],
   "source": [
    "import pandas as pd\n",
    "import numpy as np\n",
    "import os"
   ]
  },
  {
   "cell_type": "code",
   "execution_count": 2,
   "id": "0385c0a4-3f4f-4079-ad83-13b7e28c2b7d",
   "metadata": {},
   "outputs": [],
   "source": [
    "# path to project folder\n",
    "path = r'/Users/susanwang/Documents/CF_Tasks/Instacart Basket Analysis'"
   ]
  },
  {
   "cell_type": "code",
   "execution_count": 3,
   "id": "15c248ff-9fe7-4073-afee-81da9808d5f5",
   "metadata": {},
   "outputs": [],
   "source": [
    "# import ords_prods_merge pickle\n",
    "ords_prods_merge = pd.read_pickle(os.path.join(path, '02 Data', 'Prepared Data', 'ords_prods_merge.pkl'))"
   ]
  },
  {
   "cell_type": "code",
   "execution_count": 4,
   "id": "aaf3555a-3148-4a36-abb7-006385c1384f",
   "metadata": {},
   "outputs": [
    {
     "data": {
      "text/html": [
       "<div>\n",
       "<style scoped>\n",
       "    .dataframe tbody tr th:only-of-type {\n",
       "        vertical-align: middle;\n",
       "    }\n",
       "\n",
       "    .dataframe tbody tr th {\n",
       "        vertical-align: top;\n",
       "    }\n",
       "\n",
       "    .dataframe thead th {\n",
       "        text-align: right;\n",
       "    }\n",
       "</style>\n",
       "<table border=\"1\" class=\"dataframe\">\n",
       "  <thead>\n",
       "    <tr style=\"text-align: right;\">\n",
       "      <th></th>\n",
       "      <th>order_id</th>\n",
       "      <th>user_id</th>\n",
       "      <th>order_number</th>\n",
       "      <th>orders_day_of_the_week</th>\n",
       "      <th>order_hour_of_day</th>\n",
       "      <th>days_since_prior_order</th>\n",
       "      <th>first_order</th>\n",
       "      <th>product_id</th>\n",
       "      <th>add_to_cart_order</th>\n",
       "      <th>reordered</th>\n",
       "      <th>product_name</th>\n",
       "      <th>aisle_id</th>\n",
       "      <th>department_id</th>\n",
       "      <th>prices</th>\n",
       "      <th>_merge</th>\n",
       "    </tr>\n",
       "  </thead>\n",
       "  <tbody>\n",
       "    <tr>\n",
       "      <th>0</th>\n",
       "      <td>2539329</td>\n",
       "      <td>1</td>\n",
       "      <td>1</td>\n",
       "      <td>2</td>\n",
       "      <td>8</td>\n",
       "      <td>NaN</td>\n",
       "      <td>True</td>\n",
       "      <td>196</td>\n",
       "      <td>1</td>\n",
       "      <td>0</td>\n",
       "      <td>Soda</td>\n",
       "      <td>77</td>\n",
       "      <td>7</td>\n",
       "      <td>9.0</td>\n",
       "      <td>both</td>\n",
       "    </tr>\n",
       "    <tr>\n",
       "      <th>1</th>\n",
       "      <td>2539329</td>\n",
       "      <td>1</td>\n",
       "      <td>1</td>\n",
       "      <td>2</td>\n",
       "      <td>8</td>\n",
       "      <td>NaN</td>\n",
       "      <td>True</td>\n",
       "      <td>14084</td>\n",
       "      <td>2</td>\n",
       "      <td>0</td>\n",
       "      <td>Organic Unsweetened Vanilla Almond Milk</td>\n",
       "      <td>91</td>\n",
       "      <td>16</td>\n",
       "      <td>12.5</td>\n",
       "      <td>both</td>\n",
       "    </tr>\n",
       "    <tr>\n",
       "      <th>2</th>\n",
       "      <td>2539329</td>\n",
       "      <td>1</td>\n",
       "      <td>1</td>\n",
       "      <td>2</td>\n",
       "      <td>8</td>\n",
       "      <td>NaN</td>\n",
       "      <td>True</td>\n",
       "      <td>12427</td>\n",
       "      <td>3</td>\n",
       "      <td>0</td>\n",
       "      <td>Original Beef Jerky</td>\n",
       "      <td>23</td>\n",
       "      <td>19</td>\n",
       "      <td>4.4</td>\n",
       "      <td>both</td>\n",
       "    </tr>\n",
       "    <tr>\n",
       "      <th>3</th>\n",
       "      <td>2539329</td>\n",
       "      <td>1</td>\n",
       "      <td>1</td>\n",
       "      <td>2</td>\n",
       "      <td>8</td>\n",
       "      <td>NaN</td>\n",
       "      <td>True</td>\n",
       "      <td>26088</td>\n",
       "      <td>4</td>\n",
       "      <td>0</td>\n",
       "      <td>Aged White Cheddar Popcorn</td>\n",
       "      <td>23</td>\n",
       "      <td>19</td>\n",
       "      <td>4.7</td>\n",
       "      <td>both</td>\n",
       "    </tr>\n",
       "    <tr>\n",
       "      <th>4</th>\n",
       "      <td>2539329</td>\n",
       "      <td>1</td>\n",
       "      <td>1</td>\n",
       "      <td>2</td>\n",
       "      <td>8</td>\n",
       "      <td>NaN</td>\n",
       "      <td>True</td>\n",
       "      <td>26405</td>\n",
       "      <td>5</td>\n",
       "      <td>0</td>\n",
       "      <td>XL Pick-A-Size Paper Towel Rolls</td>\n",
       "      <td>54</td>\n",
       "      <td>17</td>\n",
       "      <td>1.0</td>\n",
       "      <td>both</td>\n",
       "    </tr>\n",
       "  </tbody>\n",
       "</table>\n",
       "</div>"
      ],
      "text/plain": [
       "   order_id  user_id  order_number  orders_day_of_the_week  order_hour_of_day  \\\n",
       "0   2539329        1             1                       2                  8   \n",
       "1   2539329        1             1                       2                  8   \n",
       "2   2539329        1             1                       2                  8   \n",
       "3   2539329        1             1                       2                  8   \n",
       "4   2539329        1             1                       2                  8   \n",
       "\n",
       "   days_since_prior_order  first_order  product_id  add_to_cart_order  \\\n",
       "0                     NaN         True         196                  1   \n",
       "1                     NaN         True       14084                  2   \n",
       "2                     NaN         True       12427                  3   \n",
       "3                     NaN         True       26088                  4   \n",
       "4                     NaN         True       26405                  5   \n",
       "\n",
       "   reordered                             product_name  aisle_id  \\\n",
       "0          0                                     Soda        77   \n",
       "1          0  Organic Unsweetened Vanilla Almond Milk        91   \n",
       "2          0                      Original Beef Jerky        23   \n",
       "3          0               Aged White Cheddar Popcorn        23   \n",
       "4          0         XL Pick-A-Size Paper Towel Rolls        54   \n",
       "\n",
       "   department_id  prices _merge  \n",
       "0              7     9.0   both  \n",
       "1             16    12.5   both  \n",
       "2             19     4.4   both  \n",
       "3             19     4.7   both  \n",
       "4             17     1.0   both  "
      ]
     },
     "execution_count": 4,
     "metadata": {},
     "output_type": "execute_result"
    }
   ],
   "source": [
    "# check data\n",
    "ords_prods_merge.head()"
   ]
  },
  {
   "cell_type": "code",
   "execution_count": 5,
   "id": "09f4cc02-41f2-4cb7-8082-79b2ce3fa757",
   "metadata": {},
   "outputs": [
    {
     "data": {
      "text/plain": [
       "(32404859, 15)"
      ]
     },
     "execution_count": 5,
     "metadata": {},
     "output_type": "execute_result"
    }
   ],
   "source": [
    "ords_prods_merge.shape"
   ]
  },
  {
   "cell_type": "markdown",
   "id": "5763e8b2-5a98-4525-928d-0187f3389043",
   "metadata": {},
   "source": [
    "## Create a subset with 1 million rows"
   ]
  },
  {
   "cell_type": "code",
   "execution_count": 6,
   "id": "6e5e659a-fc7f-4a15-93b8-b9f01d061d97",
   "metadata": {},
   "outputs": [],
   "source": [
    "df = ords_prods_merge[:1000000]"
   ]
  },
  {
   "cell_type": "code",
   "execution_count": 7,
   "id": "6838d862-7d05-4117-98b3-3a888e2e1c7e",
   "metadata": {},
   "outputs": [
    {
     "data": {
      "text/plain": [
       "(1000000, 15)"
      ]
     },
     "execution_count": 7,
     "metadata": {},
     "output_type": "execute_result"
    }
   ],
   "source": [
    "df.shape"
   ]
  },
  {
   "cell_type": "markdown",
   "id": "b77bdda2-fdf6-428c-a8c1-4d7a5f4ada6f",
   "metadata": {},
   "source": [
    "## User-Defined Functions"
   ]
  },
  {
   "cell_type": "markdown",
   "id": "b8f077f4-ba08-4692-9a0a-2c6b53f4e013",
   "metadata": {},
   "source": [
    "### We want to sort products into price ranges by flagging them."
   ]
  },
  {
   "cell_type": "code",
   "execution_count": 8,
   "id": "fddd02d5-a88f-4594-a074-cdca6c3c514d",
   "metadata": {},
   "outputs": [],
   "source": [
    "# define function\n",
    "def price_label(row):\n",
    "    if row['prices'] <= 5:\n",
    "        return 'Low-range product'\n",
    "    elif (row['prices'] > 5) and (row['prices'] <= 15):\n",
    "        return 'Mid-range product'\n",
    "    elif row['prices'] > 15:\n",
    "        return 'High-range product'\n",
    "    else:\n",
    "        return 'Not enough data'"
   ]
  },
  {
   "cell_type": "code",
   "execution_count": 9,
   "id": "15704746-2587-4069-9af6-d1f3fb6894ed",
   "metadata": {},
   "outputs": [
    {
     "name": "stderr",
     "output_type": "stream",
     "text": [
      "/var/folders/29/7ms2g5mn36vbg0j4kz50fxvr0000gn/T/ipykernel_22966/935325922.py:1: SettingWithCopyWarning: \n",
      "A value is trying to be set on a copy of a slice from a DataFrame.\n",
      "Try using .loc[row_indexer,col_indexer] = value instead\n",
      "\n",
      "See the caveats in the documentation: https://pandas.pydata.org/pandas-docs/stable/user_guide/indexing.html#returning-a-view-versus-a-copy\n",
      "  df['price_range'] = df.apply(price_label, axis = 1)\n"
     ]
    }
   ],
   "source": [
    "df['price_range'] = df.apply(price_label, axis = 1)"
   ]
  },
  {
   "cell_type": "code",
   "execution_count": 10,
   "id": "189f62bd-fb10-4650-8a5e-80b765570f46",
   "metadata": {},
   "outputs": [
    {
     "data": {
      "text/plain": [
       "price_range\n",
       "Mid-range product     673183\n",
       "Low-range product     314392\n",
       "High-range product     12425\n",
       "Name: count, dtype: int64"
      ]
     },
     "execution_count": 10,
     "metadata": {},
     "output_type": "execute_result"
    }
   ],
   "source": [
    "# check value counts\n",
    "df['price_range'].value_counts(dropna=False)"
   ]
  },
  {
   "cell_type": "markdown",
   "id": "d8b88c3d-8594-435d-bd0b-ce9fe59d0fc6",
   "metadata": {},
   "source": [
    "## Using loc() Function"
   ]
  },
  {
   "cell_type": "code",
   "execution_count": 11,
   "id": "e7d57e77-40bb-4f4e-8034-c8e6c36fc460",
   "metadata": {},
   "outputs": [
    {
     "name": "stderr",
     "output_type": "stream",
     "text": [
      "/var/folders/29/7ms2g5mn36vbg0j4kz50fxvr0000gn/T/ipykernel_22966/2857404532.py:1: SettingWithCopyWarning: \n",
      "A value is trying to be set on a copy of a slice from a DataFrame.\n",
      "Try using .loc[row_indexer,col_indexer] = value instead\n",
      "\n",
      "See the caveats in the documentation: https://pandas.pydata.org/pandas-docs/stable/user_guide/indexing.html#returning-a-view-versus-a-copy\n",
      "  df.loc[df['prices'] > 15, 'price_range_loc'] = 'High-range product'\n"
     ]
    }
   ],
   "source": [
    "df.loc[df['prices'] > 15, 'price_range_loc'] = 'High-range product'\n"
   ]
  },
  {
   "cell_type": "code",
   "execution_count": 12,
   "id": "16d6055f-8dd3-469e-bfa2-58a990366652",
   "metadata": {},
   "outputs": [],
   "source": [
    "df.loc[(df['prices'] <= 15) & (df['prices'] > 5), 'price_range_loc'] = 'Mid-range product'"
   ]
  },
  {
   "cell_type": "code",
   "execution_count": 13,
   "id": "3b0e951e-2fe3-402b-a042-f2dfdcef2a57",
   "metadata": {},
   "outputs": [],
   "source": [
    "df.loc[df['prices'] <= 5, 'price_range_loc'] = 'Low-range product'"
   ]
  },
  {
   "cell_type": "code",
   "execution_count": 14,
   "id": "e1d3771a-c298-483d-97e3-5194141d5127",
   "metadata": {},
   "outputs": [
    {
     "data": {
      "text/plain": [
       "price_range_loc\n",
       "Mid-range product     673183\n",
       "Low-range product     314392\n",
       "High-range product     12425\n",
       "Name: count, dtype: int64"
      ]
     },
     "execution_count": 14,
     "metadata": {},
     "output_type": "execute_result"
    }
   ],
   "source": [
    "df['price_range_loc'].value_counts(dropna=False)"
   ]
  },
  {
   "cell_type": "markdown",
   "id": "a27243db-e231-4c0f-b6f4-403b44be27b4",
   "metadata": {},
   "source": [
    "## Loc() Derivation on entire dataset"
   ]
  },
  {
   "cell_type": "code",
   "execution_count": 20,
   "id": "baa6c9da-2011-45e7-93ef-6c0aa1a216ea",
   "metadata": {},
   "outputs": [],
   "source": [
    "ords_prods_merge.loc[ords_prods_merge['prices'] <= 5, 'price_range'] = 'Low-range product'"
   ]
  },
  {
   "cell_type": "code",
   "execution_count": 21,
   "id": "9f6c5968-b9e3-4c87-857d-8ffa4ae706bc",
   "metadata": {},
   "outputs": [],
   "source": [
    "ords_prods_merge.loc[(ords_prods_merge['prices'] <= 15) & (ords_prods_merge['prices'] > 5), 'price_range'] = 'Mid-range product'"
   ]
  },
  {
   "cell_type": "code",
   "execution_count": 22,
   "id": "d5ce566e-3933-4dcf-a3fa-66635b6f325c",
   "metadata": {},
   "outputs": [],
   "source": [
    "ords_prods_merge.loc[ords_prods_merge['prices'] > 15, 'price_range'] = 'High-range product'"
   ]
  },
  {
   "cell_type": "code",
   "execution_count": 23,
   "id": "5f7460c5-ab5b-4f98-bce6-e28f048d6296",
   "metadata": {},
   "outputs": [],
   "source": [
    "# check counts\n",
    "price_count = ords_prods_merge['price_range'].value_counts(dropna=False)"
   ]
  },
  {
   "cell_type": "code",
   "execution_count": 24,
   "id": "3b92a2dd-8e3c-4751-9aa1-427c4609015a",
   "metadata": {},
   "outputs": [
    {
     "data": {
      "text/plain": [
       "price_range\n",
       "Mid-range product     21860860\n",
       "Low-range product     10126321\n",
       "High-range product      417678\n",
       "Name: count, dtype: int64"
      ]
     },
     "execution_count": 24,
     "metadata": {},
     "output_type": "execute_result"
    }
   ],
   "source": [
    "price_count"
   ]
  },
  {
   "cell_type": "code",
   "execution_count": 25,
   "id": "42047851-1463-4cff-a5e4-9853ac04fd91",
   "metadata": {},
   "outputs": [],
   "source": [
    "# copy frequency table to excel report\n",
    "price_count.to_clipboard()"
   ]
  },
  {
   "cell_type": "markdown",
   "id": "d609d8aa-f594-4f21-9ce3-12b8070aaa63",
   "metadata": {},
   "source": [
    "## If Statements with For Loops"
   ]
  },
  {
   "cell_type": "markdown",
   "id": "aa597862-8699-4ef6-aa60-f95f6d8ead81",
   "metadata": {},
   "source": [
    "### We want to summarize how busy each day of the week is."
   ]
  },
  {
   "cell_type": "code",
   "execution_count": 26,
   "id": "53dbdc8b-b81b-44b9-a2a2-853b8278c88f",
   "metadata": {},
   "outputs": [
    {
     "data": {
      "text/plain": [
       "orders_day_of_the_week\n",
       "0    6204182\n",
       "1    5660230\n",
       "6    4496490\n",
       "2    4213830\n",
       "5    4205791\n",
       "3    3840534\n",
       "4    3783802\n",
       "Name: count, dtype: int64"
      ]
     },
     "execution_count": 26,
     "metadata": {},
     "output_type": "execute_result"
    }
   ],
   "source": [
    "# view frequency\n",
    "ords_prods_merge['orders_day_of_the_week'].value_counts(dropna=False)"
   ]
  },
  {
   "cell_type": "code",
   "execution_count": 27,
   "id": "7257e948-cc01-4bd8-a249-a317c0ee86e6",
   "metadata": {},
   "outputs": [],
   "source": [
    "# loop through column and append to a list\n",
    "result = []\n",
    "\n",
    "for value in ords_prods_merge[\"orders_day_of_the_week\"]:\n",
    "  if value == 0:\n",
    "    result.append(\"Busiest day\")\n",
    "  elif value == 4:\n",
    "    result.append(\"Least busy\")\n",
    "  else:\n",
    "    result.append(\"Regularly busy\")"
   ]
  },
  {
   "cell_type": "code",
   "execution_count": 33,
   "id": "a12618f5-ff9e-400e-a820-2be35d73b8c3",
   "metadata": {},
   "outputs": [],
   "source": [
    "result"
   ]
  },
  {
   "cell_type": "code",
   "execution_count": 29,
   "id": "4f920bd6-1711-43b8-8a0f-45c6edb2bc49",
   "metadata": {},
   "outputs": [],
   "source": [
    "# set a new column to list\n",
    "ords_prods_merge['busiest_day'] = result"
   ]
  },
  {
   "cell_type": "code",
   "execution_count": 30,
   "id": "72b7ae1d-ba55-45aa-94fd-96e9dbdd2798",
   "metadata": {},
   "outputs": [],
   "source": [
    "# check value counts\n",
    "bus_day_check = ords_prods_merge['busiest_day'].value_counts(dropna=False)"
   ]
  },
  {
   "cell_type": "code",
   "execution_count": 31,
   "id": "37308184-6752-4a31-912f-c4e618c512dd",
   "metadata": {},
   "outputs": [
    {
     "data": {
      "text/plain": [
       "busiest_day\n",
       "Regularly busy    22416875\n",
       "Busiest day        6204182\n",
       "Least busy         3783802\n",
       "Name: count, dtype: int64"
      ]
     },
     "execution_count": 31,
     "metadata": {},
     "output_type": "execute_result"
    }
   ],
   "source": [
    "bus_day_check"
   ]
  },
  {
   "cell_type": "code",
   "execution_count": 32,
   "id": "37ce827e-8cc3-46e0-97e4-92bc518a63b7",
   "metadata": {},
   "outputs": [],
   "source": [
    "# copy frequency table to excel report\n",
    "bus_day_check.to_clipboard()"
   ]
  },
  {
   "cell_type": "markdown",
   "id": "d31967ca-d563-4c90-b58c-2cefd7361dab",
   "metadata": {},
   "source": [
    "## Deriving the \"Busiest days\" variable"
   ]
  },
  {
   "cell_type": "code",
   "execution_count": 76,
   "id": "5651e9fc-f7e1-4361-bc93-6794339f7038",
   "metadata": {},
   "outputs": [
    {
     "data": {
      "text/plain": [
       "orders_day_of_the_week\n",
       "0    6204182\n",
       "1    5660230\n",
       "6    4496490\n",
       "2    4213830\n",
       "5    4205791\n",
       "3    3840534\n",
       "4    3783802\n",
       "Name: count, dtype: int64"
      ]
     },
     "execution_count": 76,
     "metadata": {},
     "output_type": "execute_result"
    }
   ],
   "source": [
    "# view frequency of days in the df\n",
    "ords_prods_merge['orders_day_of_the_week'].value_counts(dropna=False)"
   ]
  },
  {
   "cell_type": "code",
   "execution_count": 34,
   "id": "5f25b462-47e5-4974-9965-6a2c46e98d11",
   "metadata": {},
   "outputs": [],
   "source": [
    "# create list\n",
    "busiest = []\n",
    "\n",
    "for value in ords_prods_merge[\"orders_day_of_the_week\"]:\n",
    "  if value <= 1:\n",
    "    busiest.append(\"Busiest days\")\n",
    "  elif value == 3:\n",
    "    busiest.append(\"Slowest days\")\n",
    "  elif value == 4:\n",
    "    busiest.append(\"Slowest days\")\n",
    "  else:\n",
    "    busiest.append(\"Regular days\")"
   ]
  },
  {
   "cell_type": "code",
   "execution_count": 35,
   "id": "ee16860f-2a2c-4b04-82b0-4c6e5d7dac9f",
   "metadata": {},
   "outputs": [],
   "source": [
    "# set list as new column\n",
    "ords_prods_merge['busiest_days'] = busiest"
   ]
  },
  {
   "cell_type": "code",
   "execution_count": 36,
   "id": "9a0b10fe-e9a6-49de-a1ea-3ac43179b620",
   "metadata": {},
   "outputs": [],
   "source": [
    "# check value counts of new column\n",
    "check_days = ords_prods_merge['busiest_days'].value_counts(dropna=False)"
   ]
  },
  {
   "cell_type": "code",
   "execution_count": 37,
   "id": "c82bdc3c-8b85-475b-9901-fee8a9acfc73",
   "metadata": {},
   "outputs": [
    {
     "data": {
      "text/plain": [
       "busiest_days\n",
       "Regular days    12916111\n",
       "Busiest days    11864412\n",
       "Slowest days     7624336\n",
       "Name: count, dtype: int64"
      ]
     },
     "execution_count": 37,
     "metadata": {},
     "output_type": "execute_result"
    }
   ],
   "source": [
    "check_days"
   ]
  },
  {
   "cell_type": "code",
   "execution_count": 38,
   "id": "be3cddf3-b189-426e-a3c4-6fa5f18f7f92",
   "metadata": {},
   "outputs": [],
   "source": [
    "# copy to excel report\n",
    "check_days.to_clipboard()"
   ]
  },
  {
   "cell_type": "code",
   "execution_count": 39,
   "id": "2de66826-0cc0-450b-82dc-7eead1f0eae6",
   "metadata": {},
   "outputs": [
    {
     "data": {
      "text/plain": [
       "orders_day_of_the_week\n",
       "0    6204182\n",
       "1    5660230\n",
       "6    4496490\n",
       "2    4213830\n",
       "5    4205791\n",
       "3    3840534\n",
       "4    3783802\n",
       "Name: count, dtype: int64"
      ]
     },
     "execution_count": 39,
     "metadata": {},
     "output_type": "execute_result"
    }
   ],
   "source": [
    "# compare to original column\n",
    "ords_prods_merge['orders_day_of_the_week'].value_counts(dropna=False)"
   ]
  },
  {
   "cell_type": "markdown",
   "id": "b27789c3-490e-406b-938a-77aeabf893a4",
   "metadata": {},
   "source": [
    "The results look accurate. The two busiest days have almost as many orders as three regular days."
   ]
  },
  {
   "cell_type": "markdown",
   "id": "ba1a7bff-d84e-43e6-9239-29e683fe32db",
   "metadata": {},
   "source": [
    "## Identify busiest hours of the day"
   ]
  },
  {
   "cell_type": "code",
   "execution_count": 40,
   "id": "bb02531f-54cc-4d43-9391-bb20880f61b8",
   "metadata": {},
   "outputs": [
    {
     "data": {
      "text/plain": [
       "order_hour_of_day\n",
       "10    2761760\n",
       "11    2736140\n",
       "14    2689136\n",
       "15    2662144\n",
       "13    2660954\n",
       "12    2618532\n",
       "16    2535202\n",
       "9     2454203\n",
       "17    2087654\n",
       "8     1718118\n",
       "18    1636502\n",
       "19    1258305\n",
       "20     976156\n",
       "7      891054\n",
       "21     795637\n",
       "22     634225\n",
       "23     402316\n",
       "6      290493\n",
       "0      218769\n",
       "1      115700\n",
       "5       87961\n",
       "2       69375\n",
       "4       53242\n",
       "3       51281\n",
       "Name: count, dtype: int64"
      ]
     },
     "execution_count": 40,
     "metadata": {},
     "output_type": "execute_result"
    }
   ],
   "source": [
    "# view order_hour_of_day frequencies\n",
    "ords_prods_merge['order_hour_of_day'].value_counts(dropna=False)"
   ]
  },
  {
   "cell_type": "markdown",
   "id": "e51be990-e77a-448f-b379-c94a6447274c",
   "metadata": {},
   "source": [
    "### I will divide the hours of day into three periods. The 'Most orders' will be the top 8 hours by frequency. 'Average orders' will be the middle 8 hours. 'Fewest orders' will be the last third of the hours."
   ]
  },
  {
   "cell_type": "code",
   "execution_count": 41,
   "id": "0b8e8aa7-b1e7-4d56-a3a9-0e65a63b2473",
   "metadata": {},
   "outputs": [],
   "source": [
    "# create lists of hours in each category\n",
    "high = [10, 11, 14, 15, 13, 12, 16, 9]\n",
    "mid = [17, 8, 18, 19, 20, 7, 21, 22]\n",
    "low = [23, 6, 0, 1, 5, 2, 4, 3]"
   ]
  },
  {
   "cell_type": "code",
   "execution_count": 42,
   "id": "71577b5c-0c9d-42ec-93f5-9ab71cd62f51",
   "metadata": {},
   "outputs": [
    {
     "name": "stdout",
     "output_type": "stream",
     "text": [
      "8\n",
      "8\n",
      "8\n"
     ]
    }
   ],
   "source": [
    "print(len(high))\n",
    "print(len(mid))\n",
    "print(len(low))"
   ]
  },
  {
   "cell_type": "markdown",
   "id": "6eaca87f-cfb7-48b1-b1e3-94880640b265",
   "metadata": {},
   "source": [
    "### Use a subset to practice and test"
   ]
  },
  {
   "cell_type": "code",
   "execution_count": 84,
   "id": "3557f110-d73d-46d2-aac5-547b1326bd1f",
   "metadata": {},
   "outputs": [],
   "source": [
    "sub_df = ords_prods_merge[:1000]"
   ]
  },
  {
   "cell_type": "code",
   "execution_count": 85,
   "id": "b0977154-d0bc-4e30-ad20-0b89cc9b90ea",
   "metadata": {},
   "outputs": [],
   "source": [
    "sub_df.loc[sub_df['order_hour_of_day'].isin(high), 'busiest_period_of_day'] = 'Most orders'"
   ]
  },
  {
   "cell_type": "code",
   "execution_count": 86,
   "id": "312b41d1-6914-41b8-8227-9af301882b3a",
   "metadata": {},
   "outputs": [],
   "source": [
    "sub_df.loc[sub_df['order_hour_of_day'].isin(mid), 'busiest_period_of_day'] = 'Average orders'"
   ]
  },
  {
   "cell_type": "code",
   "execution_count": 87,
   "id": "6bceef74-5fb4-47bd-b6fe-020915b530d3",
   "metadata": {},
   "outputs": [],
   "source": [
    "sub_df.loc[sub_df['order_hour_of_day'].isin(low), 'busiest_period_of_day'] = 'Fewest orders'"
   ]
  },
  {
   "cell_type": "code",
   "execution_count": 88,
   "id": "3cd9bf63-0ee7-4b3b-970d-93469bf95fc2",
   "metadata": {},
   "outputs": [
    {
     "data": {
      "text/plain": [
       "busiest_period_of_day\n",
       "Most orders       692\n",
       "Average orders    274\n",
       "Fewest orders      34\n",
       "Name: count, dtype: int64"
      ]
     },
     "execution_count": 88,
     "metadata": {},
     "output_type": "execute_result"
    }
   ],
   "source": [
    "sub_df['busiest_period_of_day'].value_counts(dropna=False)"
   ]
  },
  {
   "cell_type": "markdown",
   "id": "9ad5a60a-144d-4788-8667-f446a559d311",
   "metadata": {},
   "source": [
    "### Apply to whole data set"
   ]
  },
  {
   "cell_type": "code",
   "execution_count": 43,
   "id": "08ff0cc4-77f8-4034-97c8-23ed0825fddf",
   "metadata": {},
   "outputs": [],
   "source": [
    "ords_prods_merge.loc[ords_prods_merge['order_hour_of_day'].isin(high), 'busiest_period_of_day'] = 'Most orders'"
   ]
  },
  {
   "cell_type": "code",
   "execution_count": 44,
   "id": "eaea3d1d-cc22-4989-a191-062ca2fa0d32",
   "metadata": {},
   "outputs": [],
   "source": [
    "ords_prods_merge.loc[ords_prods_merge['order_hour_of_day'].isin(mid), 'busiest_period_of_day'] = 'Average orders'"
   ]
  },
  {
   "cell_type": "code",
   "execution_count": 45,
   "id": "22f3d832-b60a-4f26-93af-0f7e8d5c9914",
   "metadata": {},
   "outputs": [],
   "source": [
    "ords_prods_merge.loc[ords_prods_merge['order_hour_of_day'].isin(low), 'busiest_period_of_day'] = 'Fewest orders'"
   ]
  },
  {
   "cell_type": "code",
   "execution_count": 46,
   "id": "f277617d-9aae-442b-b81c-7cc108198dfe",
   "metadata": {},
   "outputs": [],
   "source": [
    "# check value counts and compare\n",
    "check_hrs = ords_prods_merge['busiest_period_of_day'].value_counts(dropna=False)"
   ]
  },
  {
   "cell_type": "code",
   "execution_count": 47,
   "id": "7c8a998a-7421-4a60-9171-82ea1d9f0119",
   "metadata": {},
   "outputs": [
    {
     "data": {
      "text/plain": [
       "busiest_period_of_day\n",
       "Most orders       21118071\n",
       "Average orders     9997651\n",
       "Fewest orders      1289137\n",
       "Name: count, dtype: int64"
      ]
     },
     "execution_count": 47,
     "metadata": {},
     "output_type": "execute_result"
    }
   ],
   "source": [
    "check_hrs"
   ]
  },
  {
   "cell_type": "code",
   "execution_count": 48,
   "id": "7a02faa3-aced-4ba4-83d8-fc2fa0ca7ac0",
   "metadata": {},
   "outputs": [],
   "source": [
    "# copy to excel report\n",
    "check_hrs.to_clipboard()"
   ]
  },
  {
   "cell_type": "code",
   "execution_count": 49,
   "id": "31baa8a9-eee6-4be0-95b0-33c797e00359",
   "metadata": {},
   "outputs": [
    {
     "data": {
      "text/plain": [
       "(32404859, 19)"
      ]
     },
     "execution_count": 49,
     "metadata": {},
     "output_type": "execute_result"
    }
   ],
   "source": [
    "ords_prods_merge.shape"
   ]
  },
  {
   "cell_type": "code",
   "execution_count": 50,
   "id": "1513d9e5-4c94-49ea-90f2-f3733036bbdc",
   "metadata": {},
   "outputs": [
    {
     "data": {
      "text/html": [
       "<div>\n",
       "<style scoped>\n",
       "    .dataframe tbody tr th:only-of-type {\n",
       "        vertical-align: middle;\n",
       "    }\n",
       "\n",
       "    .dataframe tbody tr th {\n",
       "        vertical-align: top;\n",
       "    }\n",
       "\n",
       "    .dataframe thead th {\n",
       "        text-align: right;\n",
       "    }\n",
       "</style>\n",
       "<table border=\"1\" class=\"dataframe\">\n",
       "  <thead>\n",
       "    <tr style=\"text-align: right;\">\n",
       "      <th></th>\n",
       "      <th>order_id</th>\n",
       "      <th>user_id</th>\n",
       "      <th>order_number</th>\n",
       "      <th>orders_day_of_the_week</th>\n",
       "      <th>order_hour_of_day</th>\n",
       "      <th>days_since_prior_order</th>\n",
       "      <th>first_order</th>\n",
       "      <th>product_id</th>\n",
       "      <th>add_to_cart_order</th>\n",
       "      <th>reordered</th>\n",
       "      <th>product_name</th>\n",
       "      <th>aisle_id</th>\n",
       "      <th>department_id</th>\n",
       "      <th>prices</th>\n",
       "      <th>_merge</th>\n",
       "      <th>price_range</th>\n",
       "      <th>busiest_day</th>\n",
       "      <th>busiest_days</th>\n",
       "      <th>busiest_period_of_day</th>\n",
       "    </tr>\n",
       "  </thead>\n",
       "  <tbody>\n",
       "    <tr>\n",
       "      <th>0</th>\n",
       "      <td>2539329</td>\n",
       "      <td>1</td>\n",
       "      <td>1</td>\n",
       "      <td>2</td>\n",
       "      <td>8</td>\n",
       "      <td>NaN</td>\n",
       "      <td>True</td>\n",
       "      <td>196</td>\n",
       "      <td>1</td>\n",
       "      <td>0</td>\n",
       "      <td>Soda</td>\n",
       "      <td>77</td>\n",
       "      <td>7</td>\n",
       "      <td>9.0</td>\n",
       "      <td>both</td>\n",
       "      <td>Mid-range product</td>\n",
       "      <td>Regularly busy</td>\n",
       "      <td>Regular days</td>\n",
       "      <td>Average orders</td>\n",
       "    </tr>\n",
       "    <tr>\n",
       "      <th>1</th>\n",
       "      <td>2539329</td>\n",
       "      <td>1</td>\n",
       "      <td>1</td>\n",
       "      <td>2</td>\n",
       "      <td>8</td>\n",
       "      <td>NaN</td>\n",
       "      <td>True</td>\n",
       "      <td>14084</td>\n",
       "      <td>2</td>\n",
       "      <td>0</td>\n",
       "      <td>Organic Unsweetened Vanilla Almond Milk</td>\n",
       "      <td>91</td>\n",
       "      <td>16</td>\n",
       "      <td>12.5</td>\n",
       "      <td>both</td>\n",
       "      <td>Mid-range product</td>\n",
       "      <td>Regularly busy</td>\n",
       "      <td>Regular days</td>\n",
       "      <td>Average orders</td>\n",
       "    </tr>\n",
       "    <tr>\n",
       "      <th>2</th>\n",
       "      <td>2539329</td>\n",
       "      <td>1</td>\n",
       "      <td>1</td>\n",
       "      <td>2</td>\n",
       "      <td>8</td>\n",
       "      <td>NaN</td>\n",
       "      <td>True</td>\n",
       "      <td>12427</td>\n",
       "      <td>3</td>\n",
       "      <td>0</td>\n",
       "      <td>Original Beef Jerky</td>\n",
       "      <td>23</td>\n",
       "      <td>19</td>\n",
       "      <td>4.4</td>\n",
       "      <td>both</td>\n",
       "      <td>Low-range product</td>\n",
       "      <td>Regularly busy</td>\n",
       "      <td>Regular days</td>\n",
       "      <td>Average orders</td>\n",
       "    </tr>\n",
       "    <tr>\n",
       "      <th>3</th>\n",
       "      <td>2539329</td>\n",
       "      <td>1</td>\n",
       "      <td>1</td>\n",
       "      <td>2</td>\n",
       "      <td>8</td>\n",
       "      <td>NaN</td>\n",
       "      <td>True</td>\n",
       "      <td>26088</td>\n",
       "      <td>4</td>\n",
       "      <td>0</td>\n",
       "      <td>Aged White Cheddar Popcorn</td>\n",
       "      <td>23</td>\n",
       "      <td>19</td>\n",
       "      <td>4.7</td>\n",
       "      <td>both</td>\n",
       "      <td>Low-range product</td>\n",
       "      <td>Regularly busy</td>\n",
       "      <td>Regular days</td>\n",
       "      <td>Average orders</td>\n",
       "    </tr>\n",
       "    <tr>\n",
       "      <th>4</th>\n",
       "      <td>2539329</td>\n",
       "      <td>1</td>\n",
       "      <td>1</td>\n",
       "      <td>2</td>\n",
       "      <td>8</td>\n",
       "      <td>NaN</td>\n",
       "      <td>True</td>\n",
       "      <td>26405</td>\n",
       "      <td>5</td>\n",
       "      <td>0</td>\n",
       "      <td>XL Pick-A-Size Paper Towel Rolls</td>\n",
       "      <td>54</td>\n",
       "      <td>17</td>\n",
       "      <td>1.0</td>\n",
       "      <td>both</td>\n",
       "      <td>Low-range product</td>\n",
       "      <td>Regularly busy</td>\n",
       "      <td>Regular days</td>\n",
       "      <td>Average orders</td>\n",
       "    </tr>\n",
       "  </tbody>\n",
       "</table>\n",
       "</div>"
      ],
      "text/plain": [
       "   order_id  user_id  order_number  orders_day_of_the_week  order_hour_of_day  \\\n",
       "0   2539329        1             1                       2                  8   \n",
       "1   2539329        1             1                       2                  8   \n",
       "2   2539329        1             1                       2                  8   \n",
       "3   2539329        1             1                       2                  8   \n",
       "4   2539329        1             1                       2                  8   \n",
       "\n",
       "   days_since_prior_order  first_order  product_id  add_to_cart_order  \\\n",
       "0                     NaN         True         196                  1   \n",
       "1                     NaN         True       14084                  2   \n",
       "2                     NaN         True       12427                  3   \n",
       "3                     NaN         True       26088                  4   \n",
       "4                     NaN         True       26405                  5   \n",
       "\n",
       "   reordered                             product_name  aisle_id  \\\n",
       "0          0                                     Soda        77   \n",
       "1          0  Organic Unsweetened Vanilla Almond Milk        91   \n",
       "2          0                      Original Beef Jerky        23   \n",
       "3          0               Aged White Cheddar Popcorn        23   \n",
       "4          0         XL Pick-A-Size Paper Towel Rolls        54   \n",
       "\n",
       "   department_id  prices _merge        price_range     busiest_day  \\\n",
       "0              7     9.0   both  Mid-range product  Regularly busy   \n",
       "1             16    12.5   both  Mid-range product  Regularly busy   \n",
       "2             19     4.4   both  Low-range product  Regularly busy   \n",
       "3             19     4.7   both  Low-range product  Regularly busy   \n",
       "4             17     1.0   both  Low-range product  Regularly busy   \n",
       "\n",
       "   busiest_days busiest_period_of_day  \n",
       "0  Regular days        Average orders  \n",
       "1  Regular days        Average orders  \n",
       "2  Regular days        Average orders  \n",
       "3  Regular days        Average orders  \n",
       "4  Regular days        Average orders  "
      ]
     },
     "execution_count": 50,
     "metadata": {},
     "output_type": "execute_result"
    }
   ],
   "source": [
    "# view head to check new columns\n",
    "ords_prods_merge.head()"
   ]
  },
  {
   "cell_type": "markdown",
   "id": "845e2ed8-f22a-401f-8f29-5858594476ba",
   "metadata": {},
   "source": [
    "## Export as pickle"
   ]
  },
  {
   "cell_type": "code",
   "execution_count": 51,
   "id": "155928eb-5352-4518-984b-3bdeff3d6721",
   "metadata": {},
   "outputs": [],
   "source": [
    "ords_prods_merge.to_pickle(os.path.join(path, '02 Data', 'Prepared Data', 'ords_prods_derive.pkl'))"
   ]
  },
  {
   "cell_type": "code",
   "execution_count": null,
   "id": "4ffa053c-cd53-49f9-9955-3eabde45ce12",
   "metadata": {},
   "outputs": [],
   "source": []
  }
 ],
 "metadata": {
  "kernelspec": {
   "display_name": "Python [conda env:base] *",
   "language": "python",
   "name": "conda-base-py"
  },
  "language_info": {
   "codemirror_mode": {
    "name": "ipython",
    "version": 3
   },
   "file_extension": ".py",
   "mimetype": "text/x-python",
   "name": "python",
   "nbconvert_exporter": "python",
   "pygments_lexer": "ipython3",
   "version": "3.12.7"
  }
 },
 "nbformat": 4,
 "nbformat_minor": 5
}
