{
 "cells": [
  {
   "cell_type": "markdown",
   "id": "72111e1c-001b-4c9f-ba25-86490552f4a9",
   "metadata": {},
   "source": [
    "# Analysis on Instacart Merged Dataset"
   ]
  },
  {
   "cell_type": "markdown",
   "id": "33968659-b929-4532-9b89-42fa3a077bd8",
   "metadata": {},
   "source": [
    "## Contents\n",
    "### Import libraries and data set\n",
    "### Consider security implications and PII data\n",
    "### Customer behavior in geographic areas\n",
    "### Exclude low-activity customers\n",
    "### Export new df\n",
    "### Price range groupings\n",
    "### Create dictionary for departments\n",
    "### Frequency of product orders for departments\n",
    "### Loyalty flag analysis\n",
    "### Analyze demographics of customers\n",
    "### Create customer profiling variable\n",
    "### Visualization for profile variable distribution\n",
    "### Aggregation on customer profile level\n",
    "### Ordering habits by region\n",
    "### Ordering habits and age/ status\n",
    "### Crosstab on Departments\n",
    "### Crosstab on Regions"
   ]
  },
  {
   "cell_type": "markdown",
   "id": "737cc3c9-ca70-4746-a0ee-4e0370f7be6e",
   "metadata": {},
   "source": [
    "## Import libaries and data set"
   ]
  },
  {
   "cell_type": "code",
   "execution_count": 1,
   "id": "2ef9e007-2b51-47f4-b5f8-67af8cc45d75",
   "metadata": {},
   "outputs": [],
   "source": [
    "import pandas as pd\n",
    "import numpy as np\n",
    "import os\n",
    "import matplotlib.pyplot as plt\n",
    "import seaborn as sns\n",
    "import scipy"
   ]
  },
  {
   "cell_type": "code",
   "execution_count": 2,
   "id": "a0c70780-3a02-4289-9c31-d3dd29b386b1",
   "metadata": {},
   "outputs": [],
   "source": [
    "# path to project folder\n",
    "path = r'/Users/susanwang/Documents/CF_Tasks/Instacart Basket Analysis'"
   ]
  },
  {
   "cell_type": "code",
   "execution_count": 3,
   "id": "49cafae2-88b1-4cc0-b055-6b6b6e7fa9ce",
   "metadata": {},
   "outputs": [],
   "source": [
    "# import clean and merged data set \n",
    "df = pd.read_pickle(os.path.join(path, '02 Data', 'Prepared Data', 'ords_prods_all.pkl'))"
   ]
  },
  {
   "cell_type": "code",
   "execution_count": 4,
   "id": "b23757a4-a768-48fc-ac05-c772568a8c42",
   "metadata": {},
   "outputs": [
    {
     "data": {
      "text/html": [
       "<div>\n",
       "<style scoped>\n",
       "    .dataframe tbody tr th:only-of-type {\n",
       "        vertical-align: middle;\n",
       "    }\n",
       "\n",
       "    .dataframe tbody tr th {\n",
       "        vertical-align: top;\n",
       "    }\n",
       "\n",
       "    .dataframe thead th {\n",
       "        text-align: right;\n",
       "    }\n",
       "</style>\n",
       "<table border=\"1\" class=\"dataframe\">\n",
       "  <thead>\n",
       "    <tr style=\"text-align: right;\">\n",
       "      <th></th>\n",
       "      <th>user_id</th>\n",
       "      <th>last_name</th>\n",
       "      <th>gender</th>\n",
       "      <th>state</th>\n",
       "      <th>age</th>\n",
       "      <th>n_dependants</th>\n",
       "      <th>fam_status</th>\n",
       "      <th>income</th>\n",
       "      <th>order_id</th>\n",
       "      <th>order_number</th>\n",
       "      <th>...</th>\n",
       "      <th>busiest_day</th>\n",
       "      <th>busiest_days</th>\n",
       "      <th>busiest_period_of_day</th>\n",
       "      <th>max_order</th>\n",
       "      <th>loyalty_flag</th>\n",
       "      <th>avg_price</th>\n",
       "      <th>spending_flag</th>\n",
       "      <th>median_days</th>\n",
       "      <th>frequency_flag</th>\n",
       "      <th>_merge</th>\n",
       "    </tr>\n",
       "  </thead>\n",
       "  <tbody>\n",
       "    <tr>\n",
       "      <th>0</th>\n",
       "      <td>26711</td>\n",
       "      <td>Esquivel</td>\n",
       "      <td>Female</td>\n",
       "      <td>Missouri</td>\n",
       "      <td>48</td>\n",
       "      <td>3</td>\n",
       "      <td>married</td>\n",
       "      <td>165665</td>\n",
       "      <td>518967</td>\n",
       "      <td>1</td>\n",
       "      <td>...</td>\n",
       "      <td>Regularly busy</td>\n",
       "      <td>Regular days</td>\n",
       "      <td>Most orders</td>\n",
       "      <td>8</td>\n",
       "      <td>New customer</td>\n",
       "      <td>7.988889</td>\n",
       "      <td>Low spender</td>\n",
       "      <td>19.0</td>\n",
       "      <td>Regular customer</td>\n",
       "      <td>both</td>\n",
       "    </tr>\n",
       "    <tr>\n",
       "      <th>1</th>\n",
       "      <td>26711</td>\n",
       "      <td>Esquivel</td>\n",
       "      <td>Female</td>\n",
       "      <td>Missouri</td>\n",
       "      <td>48</td>\n",
       "      <td>3</td>\n",
       "      <td>married</td>\n",
       "      <td>165665</td>\n",
       "      <td>423547</td>\n",
       "      <td>2</td>\n",
       "      <td>...</td>\n",
       "      <td>Regularly busy</td>\n",
       "      <td>Regular days</td>\n",
       "      <td>Most orders</td>\n",
       "      <td>8</td>\n",
       "      <td>New customer</td>\n",
       "      <td>7.988889</td>\n",
       "      <td>Low spender</td>\n",
       "      <td>19.0</td>\n",
       "      <td>Regular customer</td>\n",
       "      <td>both</td>\n",
       "    </tr>\n",
       "    <tr>\n",
       "      <th>2</th>\n",
       "      <td>26711</td>\n",
       "      <td>Esquivel</td>\n",
       "      <td>Female</td>\n",
       "      <td>Missouri</td>\n",
       "      <td>48</td>\n",
       "      <td>3</td>\n",
       "      <td>married</td>\n",
       "      <td>165665</td>\n",
       "      <td>2524893</td>\n",
       "      <td>3</td>\n",
       "      <td>...</td>\n",
       "      <td>Regularly busy</td>\n",
       "      <td>Slowest days</td>\n",
       "      <td>Most orders</td>\n",
       "      <td>8</td>\n",
       "      <td>New customer</td>\n",
       "      <td>7.988889</td>\n",
       "      <td>Low spender</td>\n",
       "      <td>19.0</td>\n",
       "      <td>Regular customer</td>\n",
       "      <td>both</td>\n",
       "    </tr>\n",
       "    <tr>\n",
       "      <th>3</th>\n",
       "      <td>26711</td>\n",
       "      <td>Esquivel</td>\n",
       "      <td>Female</td>\n",
       "      <td>Missouri</td>\n",
       "      <td>48</td>\n",
       "      <td>3</td>\n",
       "      <td>married</td>\n",
       "      <td>165665</td>\n",
       "      <td>2524893</td>\n",
       "      <td>3</td>\n",
       "      <td>...</td>\n",
       "      <td>Regularly busy</td>\n",
       "      <td>Slowest days</td>\n",
       "      <td>Most orders</td>\n",
       "      <td>8</td>\n",
       "      <td>New customer</td>\n",
       "      <td>7.988889</td>\n",
       "      <td>Low spender</td>\n",
       "      <td>19.0</td>\n",
       "      <td>Regular customer</td>\n",
       "      <td>both</td>\n",
       "    </tr>\n",
       "    <tr>\n",
       "      <th>4</th>\n",
       "      <td>26711</td>\n",
       "      <td>Esquivel</td>\n",
       "      <td>Female</td>\n",
       "      <td>Missouri</td>\n",
       "      <td>48</td>\n",
       "      <td>3</td>\n",
       "      <td>married</td>\n",
       "      <td>165665</td>\n",
       "      <td>2524893</td>\n",
       "      <td>3</td>\n",
       "      <td>...</td>\n",
       "      <td>Regularly busy</td>\n",
       "      <td>Slowest days</td>\n",
       "      <td>Most orders</td>\n",
       "      <td>8</td>\n",
       "      <td>New customer</td>\n",
       "      <td>7.988889</td>\n",
       "      <td>Low spender</td>\n",
       "      <td>19.0</td>\n",
       "      <td>Regular customer</td>\n",
       "      <td>both</td>\n",
       "    </tr>\n",
       "  </tbody>\n",
       "</table>\n",
       "<p>5 rows × 31 columns</p>\n",
       "</div>"
      ],
      "text/plain": [
       "  user_id last_name  gender     state  age  n_dependants fam_status  income  \\\n",
       "0   26711  Esquivel  Female  Missouri   48             3    married  165665   \n",
       "1   26711  Esquivel  Female  Missouri   48             3    married  165665   \n",
       "2   26711  Esquivel  Female  Missouri   48             3    married  165665   \n",
       "3   26711  Esquivel  Female  Missouri   48             3    married  165665   \n",
       "4   26711  Esquivel  Female  Missouri   48             3    married  165665   \n",
       "\n",
       "   order_id  order_number  ...     busiest_day  busiest_days  \\\n",
       "0    518967             1  ...  Regularly busy  Regular days   \n",
       "1    423547             2  ...  Regularly busy  Regular days   \n",
       "2   2524893             3  ...  Regularly busy  Slowest days   \n",
       "3   2524893             3  ...  Regularly busy  Slowest days   \n",
       "4   2524893             3  ...  Regularly busy  Slowest days   \n",
       "\n",
       "   busiest_period_of_day  max_order  loyalty_flag  avg_price spending_flag  \\\n",
       "0            Most orders          8  New customer   7.988889   Low spender   \n",
       "1            Most orders          8  New customer   7.988889   Low spender   \n",
       "2            Most orders          8  New customer   7.988889   Low spender   \n",
       "3            Most orders          8  New customer   7.988889   Low spender   \n",
       "4            Most orders          8  New customer   7.988889   Low spender   \n",
       "\n",
       "   median_days    frequency_flag  _merge  \n",
       "0         19.0  Regular customer    both  \n",
       "1         19.0  Regular customer    both  \n",
       "2         19.0  Regular customer    both  \n",
       "3         19.0  Regular customer    both  \n",
       "4         19.0  Regular customer    both  \n",
       "\n",
       "[5 rows x 31 columns]"
      ]
     },
     "execution_count": 4,
     "metadata": {},
     "output_type": "execute_result"
    }
   ],
   "source": [
    "# check head\n",
    "df.head()"
   ]
  },
  {
   "cell_type": "code",
   "execution_count": 5,
   "id": "517fda5b-3445-4018-823e-a4c20ae9fdd8",
   "metadata": {},
   "outputs": [
    {
     "data": {
      "text/plain": [
       "(32404859, 31)"
      ]
     },
     "execution_count": 5,
     "metadata": {},
     "output_type": "execute_result"
    }
   ],
   "source": [
    "# check shape\n",
    "df.shape"
   ]
  },
  {
   "cell_type": "markdown",
   "id": "662a2834-88fa-4dda-8aec-6843605b901a",
   "metadata": {},
   "source": [
    "## Consider security implications and PII data"
   ]
  },
  {
   "cell_type": "code",
   "execution_count": 6,
   "id": "5d044881-9263-48ac-b111-0454abeb0196",
   "metadata": {},
   "outputs": [
    {
     "data": {
      "text/plain": [
       "Index(['user_id', 'last_name', 'gender', 'state', 'age', 'n_dependants',\n",
       "       'fam_status', 'income', 'order_id', 'order_number',\n",
       "       'orders_day_of_the_week', 'order_hour_of_day', 'days_since_prior_order',\n",
       "       'product_id', 'add_to_cart_order', 'reordered', 'product_name',\n",
       "       'aisle_id', 'department_id', 'prices', 'price_range', 'busiest_day',\n",
       "       'busiest_days', 'busiest_period_of_day', 'max_order', 'loyalty_flag',\n",
       "       'avg_price', 'spending_flag', 'median_days', 'frequency_flag',\n",
       "       '_merge'],\n",
       "      dtype='object')"
      ]
     },
     "execution_count": 6,
     "metadata": {},
     "output_type": "execute_result"
    }
   ],
   "source": [
    "# view columns\n",
    "df.columns"
   ]
  },
  {
   "cell_type": "markdown",
   "id": "792f1ac0-c7b7-4a7b-9501-4c90ec6b3d28",
   "metadata": {},
   "source": [
    "The column 'last_name' would be a security concern, as that is personally identifiable information. Since the 'user_id' is enough to identify the customer, the 'last_name' column could be dropped to protect privacy."
   ]
  },
  {
   "cell_type": "code",
   "execution_count": 7,
   "id": "0e339681-e36a-4151-8b1b-46d5a6f190e7",
   "metadata": {},
   "outputs": [],
   "source": [
    "# drop 'last_name' column\n",
    "df = df.drop(columns=['last_name'])"
   ]
  },
  {
   "cell_type": "code",
   "execution_count": 8,
   "id": "43351827-40ca-4b8b-afd2-322ce34c10fa",
   "metadata": {},
   "outputs": [
    {
     "data": {
      "text/html": [
       "<div>\n",
       "<style scoped>\n",
       "    .dataframe tbody tr th:only-of-type {\n",
       "        vertical-align: middle;\n",
       "    }\n",
       "\n",
       "    .dataframe tbody tr th {\n",
       "        vertical-align: top;\n",
       "    }\n",
       "\n",
       "    .dataframe thead th {\n",
       "        text-align: right;\n",
       "    }\n",
       "</style>\n",
       "<table border=\"1\" class=\"dataframe\">\n",
       "  <thead>\n",
       "    <tr style=\"text-align: right;\">\n",
       "      <th></th>\n",
       "      <th>user_id</th>\n",
       "      <th>gender</th>\n",
       "      <th>state</th>\n",
       "      <th>age</th>\n",
       "      <th>n_dependants</th>\n",
       "      <th>fam_status</th>\n",
       "      <th>income</th>\n",
       "      <th>order_id</th>\n",
       "      <th>order_number</th>\n",
       "      <th>orders_day_of_the_week</th>\n",
       "      <th>...</th>\n",
       "      <th>busiest_day</th>\n",
       "      <th>busiest_days</th>\n",
       "      <th>busiest_period_of_day</th>\n",
       "      <th>max_order</th>\n",
       "      <th>loyalty_flag</th>\n",
       "      <th>avg_price</th>\n",
       "      <th>spending_flag</th>\n",
       "      <th>median_days</th>\n",
       "      <th>frequency_flag</th>\n",
       "      <th>_merge</th>\n",
       "    </tr>\n",
       "  </thead>\n",
       "  <tbody>\n",
       "    <tr>\n",
       "      <th>0</th>\n",
       "      <td>26711</td>\n",
       "      <td>Female</td>\n",
       "      <td>Missouri</td>\n",
       "      <td>48</td>\n",
       "      <td>3</td>\n",
       "      <td>married</td>\n",
       "      <td>165665</td>\n",
       "      <td>518967</td>\n",
       "      <td>1</td>\n",
       "      <td>2</td>\n",
       "      <td>...</td>\n",
       "      <td>Regularly busy</td>\n",
       "      <td>Regular days</td>\n",
       "      <td>Most orders</td>\n",
       "      <td>8</td>\n",
       "      <td>New customer</td>\n",
       "      <td>7.988889</td>\n",
       "      <td>Low spender</td>\n",
       "      <td>19.0</td>\n",
       "      <td>Regular customer</td>\n",
       "      <td>both</td>\n",
       "    </tr>\n",
       "    <tr>\n",
       "      <th>1</th>\n",
       "      <td>26711</td>\n",
       "      <td>Female</td>\n",
       "      <td>Missouri</td>\n",
       "      <td>48</td>\n",
       "      <td>3</td>\n",
       "      <td>married</td>\n",
       "      <td>165665</td>\n",
       "      <td>423547</td>\n",
       "      <td>2</td>\n",
       "      <td>2</td>\n",
       "      <td>...</td>\n",
       "      <td>Regularly busy</td>\n",
       "      <td>Regular days</td>\n",
       "      <td>Most orders</td>\n",
       "      <td>8</td>\n",
       "      <td>New customer</td>\n",
       "      <td>7.988889</td>\n",
       "      <td>Low spender</td>\n",
       "      <td>19.0</td>\n",
       "      <td>Regular customer</td>\n",
       "      <td>both</td>\n",
       "    </tr>\n",
       "    <tr>\n",
       "      <th>2</th>\n",
       "      <td>26711</td>\n",
       "      <td>Female</td>\n",
       "      <td>Missouri</td>\n",
       "      <td>48</td>\n",
       "      <td>3</td>\n",
       "      <td>married</td>\n",
       "      <td>165665</td>\n",
       "      <td>2524893</td>\n",
       "      <td>3</td>\n",
       "      <td>3</td>\n",
       "      <td>...</td>\n",
       "      <td>Regularly busy</td>\n",
       "      <td>Slowest days</td>\n",
       "      <td>Most orders</td>\n",
       "      <td>8</td>\n",
       "      <td>New customer</td>\n",
       "      <td>7.988889</td>\n",
       "      <td>Low spender</td>\n",
       "      <td>19.0</td>\n",
       "      <td>Regular customer</td>\n",
       "      <td>both</td>\n",
       "    </tr>\n",
       "    <tr>\n",
       "      <th>3</th>\n",
       "      <td>26711</td>\n",
       "      <td>Female</td>\n",
       "      <td>Missouri</td>\n",
       "      <td>48</td>\n",
       "      <td>3</td>\n",
       "      <td>married</td>\n",
       "      <td>165665</td>\n",
       "      <td>2524893</td>\n",
       "      <td>3</td>\n",
       "      <td>3</td>\n",
       "      <td>...</td>\n",
       "      <td>Regularly busy</td>\n",
       "      <td>Slowest days</td>\n",
       "      <td>Most orders</td>\n",
       "      <td>8</td>\n",
       "      <td>New customer</td>\n",
       "      <td>7.988889</td>\n",
       "      <td>Low spender</td>\n",
       "      <td>19.0</td>\n",
       "      <td>Regular customer</td>\n",
       "      <td>both</td>\n",
       "    </tr>\n",
       "    <tr>\n",
       "      <th>4</th>\n",
       "      <td>26711</td>\n",
       "      <td>Female</td>\n",
       "      <td>Missouri</td>\n",
       "      <td>48</td>\n",
       "      <td>3</td>\n",
       "      <td>married</td>\n",
       "      <td>165665</td>\n",
       "      <td>2524893</td>\n",
       "      <td>3</td>\n",
       "      <td>3</td>\n",
       "      <td>...</td>\n",
       "      <td>Regularly busy</td>\n",
       "      <td>Slowest days</td>\n",
       "      <td>Most orders</td>\n",
       "      <td>8</td>\n",
       "      <td>New customer</td>\n",
       "      <td>7.988889</td>\n",
       "      <td>Low spender</td>\n",
       "      <td>19.0</td>\n",
       "      <td>Regular customer</td>\n",
       "      <td>both</td>\n",
       "    </tr>\n",
       "  </tbody>\n",
       "</table>\n",
       "<p>5 rows × 30 columns</p>\n",
       "</div>"
      ],
      "text/plain": [
       "  user_id  gender     state  age  n_dependants fam_status  income  order_id  \\\n",
       "0   26711  Female  Missouri   48             3    married  165665    518967   \n",
       "1   26711  Female  Missouri   48             3    married  165665    423547   \n",
       "2   26711  Female  Missouri   48             3    married  165665   2524893   \n",
       "3   26711  Female  Missouri   48             3    married  165665   2524893   \n",
       "4   26711  Female  Missouri   48             3    married  165665   2524893   \n",
       "\n",
       "   order_number  orders_day_of_the_week  ...     busiest_day  busiest_days  \\\n",
       "0             1                       2  ...  Regularly busy  Regular days   \n",
       "1             2                       2  ...  Regularly busy  Regular days   \n",
       "2             3                       3  ...  Regularly busy  Slowest days   \n",
       "3             3                       3  ...  Regularly busy  Slowest days   \n",
       "4             3                       3  ...  Regularly busy  Slowest days   \n",
       "\n",
       "   busiest_period_of_day  max_order  loyalty_flag avg_price  spending_flag  \\\n",
       "0            Most orders          8  New customer  7.988889    Low spender   \n",
       "1            Most orders          8  New customer  7.988889    Low spender   \n",
       "2            Most orders          8  New customer  7.988889    Low spender   \n",
       "3            Most orders          8  New customer  7.988889    Low spender   \n",
       "4            Most orders          8  New customer  7.988889    Low spender   \n",
       "\n",
       "   median_days    frequency_flag _merge  \n",
       "0         19.0  Regular customer   both  \n",
       "1         19.0  Regular customer   both  \n",
       "2         19.0  Regular customer   both  \n",
       "3         19.0  Regular customer   both  \n",
       "4         19.0  Regular customer   both  \n",
       "\n",
       "[5 rows x 30 columns]"
      ]
     },
     "execution_count": 8,
     "metadata": {},
     "output_type": "execute_result"
    }
   ],
   "source": [
    "# check data\n",
    "df.head()"
   ]
  },
  {
   "cell_type": "markdown",
   "id": "eb97b098-1061-4ad5-b7e6-8f88bb09fa91",
   "metadata": {},
   "source": [
    "## Customer behavior in geographic areas"
   ]
  },
  {
   "cell_type": "markdown",
   "id": "d425c7b6-de75-4a53-9fe1-2838e38b0b0e",
   "metadata": {},
   "source": [
    "States by regions according to https://simple.wikipedia.org/wiki/List_of_regions_of_the_United_States:"
   ]
  },
  {
   "cell_type": "markdown",
   "id": "25709449-a3dc-4777-8eab-8909791b390d",
   "metadata": {},
   "source": [
    "### Create a region column from the state column"
   ]
  },
  {
   "cell_type": "code",
   "execution_count": 9,
   "id": "c9e40dea-882a-4537-a991-38cb5b0e2020",
   "metadata": {},
   "outputs": [],
   "source": [
    "# define the regions \n",
    "northeast = ['Maine', 'New Hampshire', 'Vermont', 'Massachusetts', 'Rhode Island', 'Connecticut', 'New York', 'Pennsylvania', 'New Jersey']\n",
    "midwest = ['Wisconsin', 'Michigan', 'Illinois', 'Indiana', 'Ohio', 'North Dakota', 'South Dakota', 'Nebraska', 'Kansas', 'Minnesota', 'Iowa', 'Missouri']\n",
    "south = ['Delaware', 'Maryland', 'District of Columbia', 'Virginia', 'West Virginia', 'North Carolina', 'South Carolina', 'Georgia', 'Florida', 'Kentucky', 'Tennessee', 'Mississippi', 'Alabama', 'Oklahoma', 'Texas', 'Arkansas', 'Louisiana']\n",
    "west = ['Idaho', 'Montana', 'Wyoming', 'Nevada', 'Utah', 'Colorado', 'Arizona', 'New Mexico', 'Alaska', 'Washington', 'Oregon', 'California', 'Hawaii']"
   ]
  },
  {
   "cell_type": "code",
   "execution_count": 10,
   "id": "767e73c0-44f0-41e9-b47a-7b3d5b4a4158",
   "metadata": {},
   "outputs": [
    {
     "data": {
      "text/plain": [
       "51"
      ]
     },
     "execution_count": 10,
     "metadata": {},
     "output_type": "execute_result"
    }
   ],
   "source": [
    "# check count all 50 states and DC\n",
    "len(northeast) + len(midwest) + len(south) + len(west)"
   ]
  },
  {
   "cell_type": "code",
   "execution_count": 11,
   "id": "5c941b8f-8612-4d77-937d-5f31bd2b08a6",
   "metadata": {},
   "outputs": [],
   "source": [
    "# derive region column using loc \n",
    "df.loc[df['state'].isin(northeast), 'region'] = 'Northeast'\n",
    "df.loc[df['state'].isin(midwest), 'region'] = 'Midwest'\n",
    "df.loc[df['state'].isin(south), 'region'] = 'South'\n",
    "df.loc[df['state'].isin(west), 'region'] = 'West'\n"
   ]
  },
  {
   "cell_type": "code",
   "execution_count": 12,
   "id": "060e3723-6cb8-4666-b19a-ba31ab559304",
   "metadata": {},
   "outputs": [],
   "source": [
    "# check value counts\n",
    "region_counts = df['region'].value_counts(dropna=False)"
   ]
  },
  {
   "cell_type": "code",
   "execution_count": 13,
   "id": "16af5d55-561c-4770-8e5a-710aa2efcc0c",
   "metadata": {},
   "outputs": [
    {
     "data": {
      "text/plain": [
       "region\n",
       "South        10791885\n",
       "West          8292913\n",
       "Midwest       7597325\n",
       "Northeast     5722736\n",
       "Name: count, dtype: int64"
      ]
     },
     "execution_count": 13,
     "metadata": {},
     "output_type": "execute_result"
    }
   ],
   "source": [
    "region_counts"
   ]
  },
  {
   "cell_type": "code",
   "execution_count": 14,
   "id": "2727e590-14a9-406f-918c-80b0c648d77e",
   "metadata": {},
   "outputs": [],
   "source": [
    "# copy to excel report\n",
    "region_counts.to_clipboard()"
   ]
  },
  {
   "cell_type": "markdown",
   "id": "05d65d93-6679-437a-807a-eec0f1666023",
   "metadata": {},
   "source": [
    "### Spending habits between different US Regions"
   ]
  },
  {
   "cell_type": "code",
   "execution_count": 15,
   "id": "114d035f-85b1-4369-8fd1-007e8d970e65",
   "metadata": {},
   "outputs": [],
   "source": [
    "# use crosstab to view frequency of spending by region, using normalize argument to normalize over each row\n",
    "crosstab_region = pd.crosstab(df['region'], df['spending_flag'], dropna=False, normalize='index')"
   ]
  },
  {
   "cell_type": "code",
   "execution_count": 16,
   "id": "2e1fe78f-f118-4fcd-a542-842920f250cb",
   "metadata": {},
   "outputs": [
    {
     "data": {
      "text/html": [
       "<div>\n",
       "<style scoped>\n",
       "    .dataframe tbody tr th:only-of-type {\n",
       "        vertical-align: middle;\n",
       "    }\n",
       "\n",
       "    .dataframe tbody tr th {\n",
       "        vertical-align: top;\n",
       "    }\n",
       "\n",
       "    .dataframe thead th {\n",
       "        text-align: right;\n",
       "    }\n",
       "</style>\n",
       "<table border=\"1\" class=\"dataframe\">\n",
       "  <thead>\n",
       "    <tr style=\"text-align: right;\">\n",
       "      <th>spending_flag</th>\n",
       "      <th>High spender</th>\n",
       "      <th>Low spender</th>\n",
       "    </tr>\n",
       "    <tr>\n",
       "      <th>region</th>\n",
       "      <th></th>\n",
       "      <th></th>\n",
       "    </tr>\n",
       "  </thead>\n",
       "  <tbody>\n",
       "    <tr>\n",
       "      <th>Midwest</th>\n",
       "      <td>0.020530</td>\n",
       "      <td>0.979470</td>\n",
       "    </tr>\n",
       "    <tr>\n",
       "      <th>Northeast</th>\n",
       "      <td>0.018911</td>\n",
       "      <td>0.981089</td>\n",
       "    </tr>\n",
       "    <tr>\n",
       "      <th>South</th>\n",
       "      <td>0.019430</td>\n",
       "      <td>0.980570</td>\n",
       "    </tr>\n",
       "    <tr>\n",
       "      <th>West</th>\n",
       "      <td>0.019336</td>\n",
       "      <td>0.980664</td>\n",
       "    </tr>\n",
       "  </tbody>\n",
       "</table>\n",
       "</div>"
      ],
      "text/plain": [
       "spending_flag  High spender  Low spender\n",
       "region                                  \n",
       "Midwest            0.020530     0.979470\n",
       "Northeast          0.018911     0.981089\n",
       "South              0.019430     0.980570\n",
       "West               0.019336     0.980664"
      ]
     },
     "execution_count": 16,
     "metadata": {},
     "output_type": "execute_result"
    }
   ],
   "source": [
    "crosstab_region"
   ]
  },
  {
   "cell_type": "code",
   "execution_count": 17,
   "id": "410af859-22c9-4edd-a01d-a6050adeb0bb",
   "metadata": {},
   "outputs": [],
   "source": [
    "# copy to excel report\n",
    "crosstab_region.to_clipboard()"
   ]
  },
  {
   "cell_type": "markdown",
   "id": "046d6025-9896-48c0-9254-8cfdbd76482a",
   "metadata": {},
   "source": [
    "There is not a big difference in spending habits between different US regions. In general, low spenders account for about 98 % of all customers in each region, and about 2% for high spenders. The Midwest has a slightly higher proportion of high spenders."
   ]
  },
  {
   "cell_type": "markdown",
   "id": "2aa3cae6-61ac-414e-a796-c62b03e3e965",
   "metadata": {},
   "source": [
    "## Exclude low-activity customers"
   ]
  },
  {
   "cell_type": "markdown",
   "id": "0a65c6c8-986d-4b9a-9a4c-bb9ff6a8ac6e",
   "metadata": {},
   "source": [
    "Create exclusion flags for customers with less than 5 orders."
   ]
  },
  {
   "cell_type": "code",
   "execution_count": 18,
   "id": "6c8243ff-3823-4e0e-9eb1-685d62da4e97",
   "metadata": {},
   "outputs": [
    {
     "data": {
      "text/plain": [
       "Index(['user_id', 'gender', 'state', 'age', 'n_dependants', 'fam_status',\n",
       "       'income', 'order_id', 'order_number', 'orders_day_of_the_week',\n",
       "       'order_hour_of_day', 'days_since_prior_order', 'product_id',\n",
       "       'add_to_cart_order', 'reordered', 'product_name', 'aisle_id',\n",
       "       'department_id', 'prices', 'price_range', 'busiest_day', 'busiest_days',\n",
       "       'busiest_period_of_day', 'max_order', 'loyalty_flag', 'avg_price',\n",
       "       'spending_flag', 'median_days', 'frequency_flag', '_merge', 'region'],\n",
       "      dtype='object')"
      ]
     },
     "execution_count": 18,
     "metadata": {},
     "output_type": "execute_result"
    }
   ],
   "source": [
    "df.columns"
   ]
  },
  {
   "cell_type": "code",
   "execution_count": 19,
   "id": "e6a78f3d-0a7e-4024-9eaf-68acc7cc622d",
   "metadata": {},
   "outputs": [
    {
     "data": {
      "text/plain": [
       "(32404859, 31)"
      ]
     },
     "execution_count": 19,
     "metadata": {},
     "output_type": "execute_result"
    }
   ],
   "source": [
    "df.shape"
   ]
  },
  {
   "cell_type": "code",
   "execution_count": 21,
   "id": "dbaf13a9-9ad4-465e-9528-d75744cbbb7a",
   "metadata": {},
   "outputs": [],
   "source": [
    "# create exclusion flags from max_order column\n",
    "df.loc[df['max_order'] < 5, 'exclusion'] = 'exclude'\n",
    "df.loc[df['max_order'] >= 5, 'exclusion'] = 'include'"
   ]
  },
  {
   "cell_type": "code",
   "execution_count": 22,
   "id": "3c821972-774e-4d1f-881c-fb33040a0e29",
   "metadata": {},
   "outputs": [],
   "source": [
    "# check value counts\n",
    "exclusion_counts = df['exclusion'].value_counts(dropna=False)"
   ]
  },
  {
   "cell_type": "code",
   "execution_count": 23,
   "id": "3076714a-e62c-41bc-908e-ce0c31067681",
   "metadata": {},
   "outputs": [
    {
     "data": {
      "text/plain": [
       "exclusion\n",
       "include    30964564\n",
       "exclude     1440295\n",
       "Name: count, dtype: int64"
      ]
     },
     "execution_count": 23,
     "metadata": {},
     "output_type": "execute_result"
    }
   ],
   "source": [
    "exclusion_counts"
   ]
  },
  {
   "cell_type": "code",
   "execution_count": 24,
   "id": "d2103388-33da-41fb-9f32-5d5b132c2ef6",
   "metadata": {},
   "outputs": [],
   "source": [
    "# copy to excel report\n",
    "exclusion_counts.to_clipboard()"
   ]
  },
  {
   "cell_type": "code",
   "execution_count": 25,
   "id": "c7c19ca3-fab1-478b-8a66-f9a9056c8e0e",
   "metadata": {},
   "outputs": [
    {
     "data": {
      "text/plain": [
       "(32404859, 32)"
      ]
     },
     "execution_count": 25,
     "metadata": {},
     "output_type": "execute_result"
    }
   ],
   "source": [
    "df.shape"
   ]
  },
  {
   "cell_type": "code",
   "execution_count": 26,
   "id": "ce3fd533-b9e3-4b9a-88b2-b1e35dc1aa84",
   "metadata": {},
   "outputs": [],
   "source": [
    "# create new df that excludes the low-activity customers\n",
    "df_new = df.loc[df['exclusion'] == 'include']"
   ]
  },
  {
   "cell_type": "code",
   "execution_count": 27,
   "id": "d7b8e1a8-347c-4b8b-86f7-494bd8cc9e59",
   "metadata": {},
   "outputs": [
    {
     "data": {
      "text/html": [
       "<div>\n",
       "<style scoped>\n",
       "    .dataframe tbody tr th:only-of-type {\n",
       "        vertical-align: middle;\n",
       "    }\n",
       "\n",
       "    .dataframe tbody tr th {\n",
       "        vertical-align: top;\n",
       "    }\n",
       "\n",
       "    .dataframe thead th {\n",
       "        text-align: right;\n",
       "    }\n",
       "</style>\n",
       "<table border=\"1\" class=\"dataframe\">\n",
       "  <thead>\n",
       "    <tr style=\"text-align: right;\">\n",
       "      <th></th>\n",
       "      <th>user_id</th>\n",
       "      <th>gender</th>\n",
       "      <th>state</th>\n",
       "      <th>age</th>\n",
       "      <th>n_dependants</th>\n",
       "      <th>fam_status</th>\n",
       "      <th>income</th>\n",
       "      <th>order_id</th>\n",
       "      <th>order_number</th>\n",
       "      <th>orders_day_of_the_week</th>\n",
       "      <th>...</th>\n",
       "      <th>busiest_period_of_day</th>\n",
       "      <th>max_order</th>\n",
       "      <th>loyalty_flag</th>\n",
       "      <th>avg_price</th>\n",
       "      <th>spending_flag</th>\n",
       "      <th>median_days</th>\n",
       "      <th>frequency_flag</th>\n",
       "      <th>_merge</th>\n",
       "      <th>region</th>\n",
       "      <th>exclusion</th>\n",
       "    </tr>\n",
       "  </thead>\n",
       "  <tbody>\n",
       "    <tr>\n",
       "      <th>0</th>\n",
       "      <td>26711</td>\n",
       "      <td>Female</td>\n",
       "      <td>Missouri</td>\n",
       "      <td>48</td>\n",
       "      <td>3</td>\n",
       "      <td>married</td>\n",
       "      <td>165665</td>\n",
       "      <td>518967</td>\n",
       "      <td>1</td>\n",
       "      <td>2</td>\n",
       "      <td>...</td>\n",
       "      <td>Most orders</td>\n",
       "      <td>8</td>\n",
       "      <td>New customer</td>\n",
       "      <td>7.988889</td>\n",
       "      <td>Low spender</td>\n",
       "      <td>19.0</td>\n",
       "      <td>Regular customer</td>\n",
       "      <td>both</td>\n",
       "      <td>Midwest</td>\n",
       "      <td>include</td>\n",
       "    </tr>\n",
       "    <tr>\n",
       "      <th>1</th>\n",
       "      <td>26711</td>\n",
       "      <td>Female</td>\n",
       "      <td>Missouri</td>\n",
       "      <td>48</td>\n",
       "      <td>3</td>\n",
       "      <td>married</td>\n",
       "      <td>165665</td>\n",
       "      <td>423547</td>\n",
       "      <td>2</td>\n",
       "      <td>2</td>\n",
       "      <td>...</td>\n",
       "      <td>Most orders</td>\n",
       "      <td>8</td>\n",
       "      <td>New customer</td>\n",
       "      <td>7.988889</td>\n",
       "      <td>Low spender</td>\n",
       "      <td>19.0</td>\n",
       "      <td>Regular customer</td>\n",
       "      <td>both</td>\n",
       "      <td>Midwest</td>\n",
       "      <td>include</td>\n",
       "    </tr>\n",
       "    <tr>\n",
       "      <th>2</th>\n",
       "      <td>26711</td>\n",
       "      <td>Female</td>\n",
       "      <td>Missouri</td>\n",
       "      <td>48</td>\n",
       "      <td>3</td>\n",
       "      <td>married</td>\n",
       "      <td>165665</td>\n",
       "      <td>2524893</td>\n",
       "      <td>3</td>\n",
       "      <td>3</td>\n",
       "      <td>...</td>\n",
       "      <td>Most orders</td>\n",
       "      <td>8</td>\n",
       "      <td>New customer</td>\n",
       "      <td>7.988889</td>\n",
       "      <td>Low spender</td>\n",
       "      <td>19.0</td>\n",
       "      <td>Regular customer</td>\n",
       "      <td>both</td>\n",
       "      <td>Midwest</td>\n",
       "      <td>include</td>\n",
       "    </tr>\n",
       "    <tr>\n",
       "      <th>3</th>\n",
       "      <td>26711</td>\n",
       "      <td>Female</td>\n",
       "      <td>Missouri</td>\n",
       "      <td>48</td>\n",
       "      <td>3</td>\n",
       "      <td>married</td>\n",
       "      <td>165665</td>\n",
       "      <td>2524893</td>\n",
       "      <td>3</td>\n",
       "      <td>3</td>\n",
       "      <td>...</td>\n",
       "      <td>Most orders</td>\n",
       "      <td>8</td>\n",
       "      <td>New customer</td>\n",
       "      <td>7.988889</td>\n",
       "      <td>Low spender</td>\n",
       "      <td>19.0</td>\n",
       "      <td>Regular customer</td>\n",
       "      <td>both</td>\n",
       "      <td>Midwest</td>\n",
       "      <td>include</td>\n",
       "    </tr>\n",
       "    <tr>\n",
       "      <th>4</th>\n",
       "      <td>26711</td>\n",
       "      <td>Female</td>\n",
       "      <td>Missouri</td>\n",
       "      <td>48</td>\n",
       "      <td>3</td>\n",
       "      <td>married</td>\n",
       "      <td>165665</td>\n",
       "      <td>2524893</td>\n",
       "      <td>3</td>\n",
       "      <td>3</td>\n",
       "      <td>...</td>\n",
       "      <td>Most orders</td>\n",
       "      <td>8</td>\n",
       "      <td>New customer</td>\n",
       "      <td>7.988889</td>\n",
       "      <td>Low spender</td>\n",
       "      <td>19.0</td>\n",
       "      <td>Regular customer</td>\n",
       "      <td>both</td>\n",
       "      <td>Midwest</td>\n",
       "      <td>include</td>\n",
       "    </tr>\n",
       "  </tbody>\n",
       "</table>\n",
       "<p>5 rows × 32 columns</p>\n",
       "</div>"
      ],
      "text/plain": [
       "  user_id  gender     state  age  n_dependants fam_status  income  order_id  \\\n",
       "0   26711  Female  Missouri   48             3    married  165665    518967   \n",
       "1   26711  Female  Missouri   48             3    married  165665    423547   \n",
       "2   26711  Female  Missouri   48             3    married  165665   2524893   \n",
       "3   26711  Female  Missouri   48             3    married  165665   2524893   \n",
       "4   26711  Female  Missouri   48             3    married  165665   2524893   \n",
       "\n",
       "   order_number  orders_day_of_the_week  ...  busiest_period_of_day  \\\n",
       "0             1                       2  ...            Most orders   \n",
       "1             2                       2  ...            Most orders   \n",
       "2             3                       3  ...            Most orders   \n",
       "3             3                       3  ...            Most orders   \n",
       "4             3                       3  ...            Most orders   \n",
       "\n",
       "   max_order  loyalty_flag  avg_price  spending_flag median_days  \\\n",
       "0          8  New customer   7.988889    Low spender        19.0   \n",
       "1          8  New customer   7.988889    Low spender        19.0   \n",
       "2          8  New customer   7.988889    Low spender        19.0   \n",
       "3          8  New customer   7.988889    Low spender        19.0   \n",
       "4          8  New customer   7.988889    Low spender        19.0   \n",
       "\n",
       "     frequency_flag  _merge   region exclusion  \n",
       "0  Regular customer    both  Midwest   include  \n",
       "1  Regular customer    both  Midwest   include  \n",
       "2  Regular customer    both  Midwest   include  \n",
       "3  Regular customer    both  Midwest   include  \n",
       "4  Regular customer    both  Midwest   include  \n",
       "\n",
       "[5 rows x 32 columns]"
      ]
     },
     "execution_count": 27,
     "metadata": {},
     "output_type": "execute_result"
    }
   ],
   "source": [
    "# check df_new head\n",
    "df_new.head()"
   ]
  },
  {
   "cell_type": "code",
   "execution_count": 28,
   "id": "60135aaf-734a-4955-96eb-ff62221f84cc",
   "metadata": {},
   "outputs": [
    {
     "data": {
      "text/plain": [
       "(30964564, 32)"
      ]
     },
     "execution_count": 28,
     "metadata": {},
     "output_type": "execute_result"
    }
   ],
   "source": [
    "# check df_new shape\n",
    "df_new.shape"
   ]
  },
  {
   "cell_type": "markdown",
   "id": "1b41751e-909e-4da8-998c-ebfeec6c2e43",
   "metadata": {},
   "source": [
    "## Export new df"
   ]
  },
  {
   "cell_type": "code",
   "execution_count": 30,
   "id": "6aa3ac07-6b93-44d6-afc0-19c4883b8dad",
   "metadata": {},
   "outputs": [],
   "source": [
    "df_new.to_pickle(os.path.join(path, '02 Data', 'Prepared Data', 'ords_prods_final.pkl'))"
   ]
  },
  {
   "cell_type": "markdown",
   "id": "13f5c362-94dd-42d6-932b-b7462194abbe",
   "metadata": {},
   "source": [
    "## Price range groupings"
   ]
  },
  {
   "cell_type": "code",
   "execution_count": 168,
   "id": "27c38aaf-4b22-4582-9d05-e93d551e51ac",
   "metadata": {},
   "outputs": [
    {
     "data": {
      "image/png": "[encoded data removed]",
      "text/plain": [
       "<Figure size 640x480 with 1 Axes>"
      ]
     },
     "metadata": {},
     "output_type": "display_data"
    }
   ],
   "source": [
    "price_range_bar = df_new['price_range'].value_counts().sort_values(ascending=True).plot.barh(title='Orders by Price Range', ylabel='Price Range')"
   ]
  },
  {
   "cell_type": "code",
   "execution_count": 173,
   "id": "bf867bb5-ae96-4df9-941e-6a3f4dcd85b0",
   "metadata": {},
   "outputs": [],
   "source": [
    "# export chart\n",
    "price_range_bar.figure.savefig(os.path.join(path, '04 Analysis', 'Visualizations', 'price_range_bar.png'), bbox_inches='tight')"
   ]
  },
  {
   "cell_type": "markdown",
   "id": "1daef86f-40dd-46f8-84f2-8b3fafa608eb",
   "metadata": {},
   "source": [
    "## Create dictionary for departments"
   ]
  },
  {
   "cell_type": "code",
   "execution_count": 31,
   "id": "9b61e6e4-6f2a-447a-9329-c21ce079a1f3",
   "metadata": {},
   "outputs": [],
   "source": [
    "# import department csv\n",
    "df_dep = pd.read_csv(os.path.join(path, '02 Data', 'Prepared Data', 'departments_wrangled.csv'), index_col=0)"
   ]
  },
  {
   "cell_type": "code",
   "execution_count": 32,
   "id": "08c1764c-71e9-49ff-a270-195d1d707ba3",
   "metadata": {},
   "outputs": [
    {
     "data": {
      "text/html": [
       "<div>\n",
       "<style scoped>\n",
       "    .dataframe tbody tr th:only-of-type {\n",
       "        vertical-align: middle;\n",
       "    }\n",
       "\n",
       "    .dataframe tbody tr th {\n",
       "        vertical-align: top;\n",
       "    }\n",
       "\n",
       "    .dataframe thead th {\n",
       "        text-align: right;\n",
       "    }\n",
       "</style>\n",
       "<table border=\"1\" class=\"dataframe\">\n",
       "  <thead>\n",
       "    <tr style=\"text-align: right;\">\n",
       "      <th></th>\n",
       "      <th>department</th>\n",
       "    </tr>\n",
       "  </thead>\n",
       "  <tbody>\n",
       "    <tr>\n",
       "      <th>1</th>\n",
       "      <td>frozen</td>\n",
       "    </tr>\n",
       "    <tr>\n",
       "      <th>2</th>\n",
       "      <td>other</td>\n",
       "    </tr>\n",
       "    <tr>\n",
       "      <th>3</th>\n",
       "      <td>bakery</td>\n",
       "    </tr>\n",
       "    <tr>\n",
       "      <th>4</th>\n",
       "      <td>produce</td>\n",
       "    </tr>\n",
       "    <tr>\n",
       "      <th>5</th>\n",
       "      <td>alcohol</td>\n",
       "    </tr>\n",
       "    <tr>\n",
       "      <th>6</th>\n",
       "      <td>international</td>\n",
       "    </tr>\n",
       "    <tr>\n",
       "      <th>7</th>\n",
       "      <td>beverages</td>\n",
       "    </tr>\n",
       "    <tr>\n",
       "      <th>8</th>\n",
       "      <td>pets</td>\n",
       "    </tr>\n",
       "    <tr>\n",
       "      <th>9</th>\n",
       "      <td>dry goods pasta</td>\n",
       "    </tr>\n",
       "    <tr>\n",
       "      <th>10</th>\n",
       "      <td>bulk</td>\n",
       "    </tr>\n",
       "    <tr>\n",
       "      <th>11</th>\n",
       "      <td>personal care</td>\n",
       "    </tr>\n",
       "    <tr>\n",
       "      <th>12</th>\n",
       "      <td>meat seafood</td>\n",
       "    </tr>\n",
       "    <tr>\n",
       "      <th>13</th>\n",
       "      <td>pantry</td>\n",
       "    </tr>\n",
       "    <tr>\n",
       "      <th>14</th>\n",
       "      <td>breakfast</td>\n",
       "    </tr>\n",
       "    <tr>\n",
       "      <th>15</th>\n",
       "      <td>canned goods</td>\n",
       "    </tr>\n",
       "    <tr>\n",
       "      <th>16</th>\n",
       "      <td>dairy eggs</td>\n",
       "    </tr>\n",
       "    <tr>\n",
       "      <th>17</th>\n",
       "      <td>household</td>\n",
       "    </tr>\n",
       "    <tr>\n",
       "      <th>18</th>\n",
       "      <td>babies</td>\n",
       "    </tr>\n",
       "    <tr>\n",
       "      <th>19</th>\n",
       "      <td>snacks</td>\n",
       "    </tr>\n",
       "    <tr>\n",
       "      <th>20</th>\n",
       "      <td>deli</td>\n",
       "    </tr>\n",
       "    <tr>\n",
       "      <th>21</th>\n",
       "      <td>missing</td>\n",
       "    </tr>\n",
       "  </tbody>\n",
       "</table>\n",
       "</div>"
      ],
      "text/plain": [
       "         department\n",
       "1            frozen\n",
       "2             other\n",
       "3            bakery\n",
       "4           produce\n",
       "5           alcohol\n",
       "6     international\n",
       "7         beverages\n",
       "8              pets\n",
       "9   dry goods pasta\n",
       "10             bulk\n",
       "11    personal care\n",
       "12     meat seafood\n",
       "13           pantry\n",
       "14        breakfast\n",
       "15     canned goods\n",
       "16       dairy eggs\n",
       "17        household\n",
       "18           babies\n",
       "19           snacks\n",
       "20             deli\n",
       "21          missing"
      ]
     },
     "execution_count": 32,
     "metadata": {},
     "output_type": "execute_result"
    }
   ],
   "source": [
    "df_dep"
   ]
  },
  {
   "cell_type": "code",
   "execution_count": 33,
   "id": "5f0bd94e-4866-4373-bf4d-070b497659ff",
   "metadata": {},
   "outputs": [],
   "source": [
    "dep_dict = df_dep.to_dict('index')"
   ]
  },
  {
   "cell_type": "code",
   "execution_count": 34,
   "id": "d498b509-2de1-4ac1-bdd9-2c14e5ba6c10",
   "metadata": {},
   "outputs": [
    {
     "name": "stdout",
     "output_type": "stream",
     "text": [
      "{'department': 'international'}\n"
     ]
    }
   ],
   "source": [
    "print(dep_dict.get(6))"
   ]
  },
  {
   "cell_type": "markdown",
   "id": "8005965f-fb98-4009-a88e-428bd122512b",
   "metadata": {},
   "source": [
    "## Frequency of product orders for departments"
   ]
  },
  {
   "cell_type": "code",
   "execution_count": 98,
   "id": "3c1955c7-9907-44c5-a7e8-f4a0e6f055b7",
   "metadata": {},
   "outputs": [],
   "source": [
    "dep_freq = df_new['department_id'].value_counts(dropna=False)"
   ]
  },
  {
   "cell_type": "code",
   "execution_count": 99,
   "id": "b583be8c-1231-49d3-96ea-ff7101c6278c",
   "metadata": {},
   "outputs": [
    {
     "data": {
      "text/plain": [
       "department_id\n",
       "4     9079273\n",
       "16    5177182\n",
       "19    2766406\n",
       "7     2571901\n",
       "1     2121731\n",
       "13    1782705\n",
       "3     1120828\n",
       "15    1012074\n",
       "20    1003834\n",
       "9      822136\n",
       "17     699857\n",
       "12     674781\n",
       "14     670850\n",
       "11     424306\n",
       "18     410392\n",
       "6      255991\n",
       "5      144627\n",
       "8       93060\n",
       "21      64768\n",
       "2       34411\n",
       "10      33451\n",
       "Name: count, dtype: int64"
      ]
     },
     "execution_count": 99,
     "metadata": {},
     "output_type": "execute_result"
    }
   ],
   "source": [
    "dep_freq"
   ]
  },
  {
   "cell_type": "code",
   "execution_count": 97,
   "id": "9f72f4bf-a607-45ac-99bd-4fee3ddc06d1",
   "metadata": {},
   "outputs": [
    {
     "name": "stdout",
     "output_type": "stream",
     "text": [
      "The most frequently ordered products are from {'department': 'produce'}, {'department': 'dairy eggs'}, and {'department': 'snacks'}. The least ordered products are from {'department': 'bulk'}, {'department': 'other'} and {'department': 'missing'}\n"
     ]
    }
   ],
   "source": [
    "print(f'The most frequently ordered products are from {dep_dict.get(4)}, {dep_dict.get(16)}, and {dep_dict.get(19)}. The least ordered products are from {dep_dict.get(10)}, {dep_dict.get(2)} and {dep_dict.get(21)}')"
   ]
  },
  {
   "cell_type": "code",
   "execution_count": 101,
   "id": "82db1832-9ad9-4c3e-864f-9752ac006301",
   "metadata": {},
   "outputs": [
    {
     "data": {
      "image/png": "[encoded data removed]",
      "text/plain": [
       "<Figure size 640x480 with 1 Axes>"
      ]
     },
     "metadata": {},
     "output_type": "display_data"
    }
   ],
   "source": [
    "# create viz for frequency\n",
    "dep_bar = df_new['department_id'].value_counts().plot.bar(title='Frequency of Orders by Department', xlabel='Department ID')"
   ]
  },
  {
   "cell_type": "code",
   "execution_count": 102,
   "id": "a5efb49a-1e66-49bd-8a85-52e1c89794d1",
   "metadata": {},
   "outputs": [],
   "source": [
    "# export\n",
    "dep_bar.figure.savefig(os.path.join(path, '04 Analysis', 'Visualizations', 'dep_bar.png'))"
   ]
  },
  {
   "cell_type": "markdown",
   "id": "0bdc9bb4-561d-4e84-896b-a467fc144194",
   "metadata": {},
   "source": [
    "## Loyalty flag analysis"
   ]
  },
  {
   "cell_type": "code",
   "execution_count": 175,
   "id": "db297ca3-1718-478e-b3de-339871fbbcae",
   "metadata": {},
   "outputs": [
    {
     "data": {
      "image/png": "[encoded data removed]",
      "text/plain": [
       "<Figure size 640x480 with 1 Axes>"
      ]
     },
     "metadata": {},
     "output_type": "display_data"
    }
   ],
   "source": [
    "loyalty_bar =df_new['loyalty_flag'].value_counts().plot.barh(title='Loyalty Flag Distribution', ylabel='Loyalty Flag')"
   ]
  },
  {
   "cell_type": "code",
   "execution_count": 176,
   "id": "a54366c8-6456-48e7-ba12-350002c84fb4",
   "metadata": {},
   "outputs": [],
   "source": [
    "# export fig\n",
    "loyalty_bar.figure.savefig(os.path.join(path, '04 Analysis', 'Visualizations', 'loyalty_bar.png'), bbox_inches='tight')"
   ]
  },
  {
   "cell_type": "markdown",
   "id": "c012a0ee-a959-4f52-a0ec-b6111b115f83",
   "metadata": {},
   "source": [
    "## Analyize demographics of customers"
   ]
  },
  {
   "cell_type": "code",
   "execution_count": 196,
   "id": "f64aac2e-f128-49a4-8691-9234e460facc",
   "metadata": {},
   "outputs": [],
   "source": [
    "# check stats of family status and age\n",
    "fam_stats = df_new.groupby('fam_status').agg({'age': ['mean', 'max', 'min', 'count']})"
   ]
  },
  {
   "cell_type": "code",
   "execution_count": 197,
   "id": "30c59797-c1af-40e2-ab48-ff08cb9b050b",
   "metadata": {},
   "outputs": [
    {
     "data": {
      "text/html": [
       "<div>\n",
       "<style scoped>\n",
       "    .dataframe tbody tr th:only-of-type {\n",
       "        vertical-align: middle;\n",
       "    }\n",
       "\n",
       "    .dataframe tbody tr th {\n",
       "        vertical-align: top;\n",
       "    }\n",
       "\n",
       "    .dataframe thead tr th {\n",
       "        text-align: left;\n",
       "    }\n",
       "\n",
       "    .dataframe thead tr:last-of-type th {\n",
       "        text-align: right;\n",
       "    }\n",
       "</style>\n",
       "<table border=\"1\" class=\"dataframe\">\n",
       "  <thead>\n",
       "    <tr>\n",
       "      <th></th>\n",
       "      <th colspan=\"4\" halign=\"left\">age</th>\n",
       "    </tr>\n",
       "    <tr>\n",
       "      <th></th>\n",
       "      <th>mean</th>\n",
       "      <th>max</th>\n",
       "      <th>min</th>\n",
       "      <th>count</th>\n",
       "    </tr>\n",
       "    <tr>\n",
       "      <th>fam_status</th>\n",
       "      <th></th>\n",
       "      <th></th>\n",
       "      <th></th>\n",
       "      <th></th>\n",
       "    </tr>\n",
       "  </thead>\n",
       "  <tbody>\n",
       "    <tr>\n",
       "      <th>divorced/widowed</th>\n",
       "      <td>70.510585</td>\n",
       "      <td>81</td>\n",
       "      <td>60</td>\n",
       "      <td>2645271</td>\n",
       "    </tr>\n",
       "    <tr>\n",
       "      <th>living with parents and siblings</th>\n",
       "      <td>19.502090</td>\n",
       "      <td>21</td>\n",
       "      <td>18</td>\n",
       "      <td>1481172</td>\n",
       "    </tr>\n",
       "    <tr>\n",
       "      <th>married</th>\n",
       "      <td>51.495620</td>\n",
       "      <td>81</td>\n",
       "      <td>22</td>\n",
       "      <td>21743711</td>\n",
       "    </tr>\n",
       "    <tr>\n",
       "      <th>single</th>\n",
       "      <td>38.600037</td>\n",
       "      <td>59</td>\n",
       "      <td>18</td>\n",
       "      <td>5094410</td>\n",
       "    </tr>\n",
       "  </tbody>\n",
       "</table>\n",
       "</div>"
      ],
      "text/plain": [
       "                                        age                  \n",
       "                                       mean max min     count\n",
       "fam_status                                                   \n",
       "divorced/widowed                  70.510585  81  60   2645271\n",
       "living with parents and siblings  19.502090  21  18   1481172\n",
       "married                           51.495620  81  22  21743711\n",
       "single                            38.600037  59  18   5094410"
      ]
     },
     "execution_count": 197,
     "metadata": {},
     "output_type": "execute_result"
    }
   ],
   "source": [
    "fam_stats"
   ]
  },
  {
   "cell_type": "markdown",
   "id": "26868ae1-2e8f-4c33-9271-76fbd041e10d",
   "metadata": {},
   "source": [
    "The family statistics clearly show that there is an age relationship to the family status. All \"living with parents\" are under 22, all \"divorced\" are over 60. All singles are under 60, which is saying there are no singles above the age of 60. All customers above 60 are either married or divorced/widowed."
   ]
  },
  {
   "cell_type": "code",
   "execution_count": 202,
   "id": "213fb542-b78f-40ac-8adb-33c97cf47f78",
   "metadata": {},
   "outputs": [],
   "source": [
    "# export table\n",
    "fam_stats.to_clipboard()"
   ]
  },
  {
   "cell_type": "code",
   "execution_count": 199,
   "id": "c059d8db-9861-4b9e-ae02-cc0d84382fc2",
   "metadata": {},
   "outputs": [],
   "source": [
    "fam_dep = df_new.groupby('fam_status')['n_dependants'].value_counts(dropna=False)"
   ]
  },
  {
   "cell_type": "code",
   "execution_count": 200,
   "id": "da695a4a-4c16-4234-b2aa-e577ed30f912",
   "metadata": {},
   "outputs": [
    {
     "data": {
      "text/plain": [
       "fam_status                        n_dependants\n",
       "divorced/widowed                  0               2645271\n",
       "living with parents and siblings  1                508045\n",
       "                                  3                488469\n",
       "                                  2                484658\n",
       "married                           3               7284047\n",
       "                                  2               7248603\n",
       "                                  1               7211061\n",
       "single                            0               5094410\n",
       "Name: count, dtype: int64"
      ]
     },
     "execution_count": 200,
     "metadata": {},
     "output_type": "execute_result"
    }
   ],
   "source": [
    "fam_dep"
   ]
  },
  {
   "cell_type": "markdown",
   "id": "a452f73d-a9b6-4631-aef7-98b8726e5317",
   "metadata": {},
   "source": [
    "All \"living with parents and siblings\" are under 21, yet they claim 1-3 dependants?"
   ]
  },
  {
   "cell_type": "code",
   "execution_count": 201,
   "id": "c7253425-16af-40e6-b9dc-40cb79576637",
   "metadata": {},
   "outputs": [],
   "source": [
    "# export table\n",
    "fam_dep.to_clipboard()"
   ]
  },
  {
   "cell_type": "markdown",
   "id": "28e6608c-0e5b-4ad7-8578-9a3217a8065e",
   "metadata": {},
   "source": [
    "## Create customer profiling variable"
   ]
  },
  {
   "cell_type": "code",
   "execution_count": 141,
   "id": "f1320d07-f473-4335-8a10-7f816fd80a5a",
   "metadata": {},
   "outputs": [
    {
     "data": {
      "text/plain": [
       "(30964564, 33)"
      ]
     },
     "execution_count": 141,
     "metadata": {},
     "output_type": "execute_result"
    }
   ],
   "source": [
    "df_new.shape"
   ]
  },
  {
   "cell_type": "markdown",
   "id": "a0dcde4e-d74d-4699-aca8-97a399076e7b",
   "metadata": {},
   "source": [
    "Customer profiles will be based on age and number of dependants (family status has less to do with how many dependants they have)\n",
    "From previous analysis (4.1 Visualization) we have learned that after age 40 there is a significant change in income, so I will use the age 40 as a factor in categorizing the groups."
   ]
  },
  {
   "cell_type": "code",
   "execution_count": 203,
   "id": "28deafec-fdc0-458f-832a-dcb325f6f4a5",
   "metadata": {},
   "outputs": [],
   "source": [
    "# young parents\n",
    "df_new.loc[(df_new['age'] <= 40) & (df_new['n_dependants'] >= 1), 'cust_profile'] = 'Young family'\n",
    "df_new.loc[(df_new['age'] > 40) & (df_new['n_dependants'] >= 1), 'cust_profile'] = 'Older family'\n",
    "df_new.loc[(df_new['age'] <= 40) & (df_new['n_dependants'] == 0), 'cust_profile'] = 'Single youth'\n",
    "df_new.loc[(df_new['age'] > 40) & (df_new['n_dependants'] == 0), 'cust_profile'] = 'Single adult'"
   ]
  },
  {
   "cell_type": "code",
   "execution_count": 204,
   "id": "b779d6cd-eea5-445e-a5f0-0e8ed3c3f5c7",
   "metadata": {},
   "outputs": [],
   "source": [
    "# check counts\n",
    "profile_count = df_new['cust_profile'].value_counts(dropna=False)"
   ]
  },
  {
   "cell_type": "code",
   "execution_count": 205,
   "id": "17bfe03d-6dca-4ef1-85ec-2644b6ba3599",
   "metadata": {},
   "outputs": [
    {
     "data": {
      "text/plain": [
       "cust_profile\n",
       "Older family    14856709\n",
       "Young family     8368174\n",
       "Single adult     4959422\n",
       "Single youth     2780259\n",
       "Name: count, dtype: int64"
      ]
     },
     "execution_count": 205,
     "metadata": {},
     "output_type": "execute_result"
    }
   ],
   "source": [
    "profile_count"
   ]
  },
  {
   "cell_type": "code",
   "execution_count": 206,
   "id": "69d5d063-ef32-4be8-893c-d5674d218181",
   "metadata": {},
   "outputs": [],
   "source": [
    "# copy to excel report\n",
    "profile_count.to_clipboard()"
   ]
  },
  {
   "cell_type": "code",
   "execution_count": 207,
   "id": "8fc46deb-e016-43c2-b1f0-c1765d33e452",
   "metadata": {},
   "outputs": [
    {
     "data": {
      "text/plain": [
       "(30964564, 33)"
      ]
     },
     "execution_count": 207,
     "metadata": {},
     "output_type": "execute_result"
    }
   ],
   "source": [
    "df_new.shape"
   ]
  },
  {
   "cell_type": "markdown",
   "id": "d6709e1b-80dd-401e-b828-ea9ab7644884",
   "metadata": {},
   "source": [
    "## Visualization for profile variable distribution"
   ]
  },
  {
   "cell_type": "code",
   "execution_count": 208,
   "id": "27c536f9-4ce0-4383-814d-5c689a4c0816",
   "metadata": {},
   "outputs": [
    {
     "data": {
      "image/png": "[encoded data removed]",
      "text/plain": [
       "<Figure size 640x480 with 1 Axes>"
      ]
     },
     "metadata": {},
     "output_type": "display_data"
    }
   ],
   "source": [
    "prof_bar = df_new['cust_profile'].value_counts().sort_values(ascending=True).plot.barh(title='Distribution of Customer Profiles', ylabel='Profile')"
   ]
  },
  {
   "cell_type": "code",
   "execution_count": 209,
   "id": "36dd6325-eedb-4012-9013-125c76555a88",
   "metadata": {},
   "outputs": [],
   "source": [
    "# export figure\n",
    "prof_bar.figure.savefig(os.path.join(path, '04 Analysis', 'Visualizations', 'cust_prof_bar.png'), bbox_inches='tight')"
   ]
  },
  {
   "cell_type": "markdown",
   "id": "db0af78a-a3b1-4286-95a6-7b6bde38822b",
   "metadata": {},
   "source": [
    "## Aggregation on customer profile level"
   ]
  },
  {
   "cell_type": "code",
   "execution_count": 210,
   "id": "5a159c2e-9243-4df8-816f-622ab83ac162",
   "metadata": {},
   "outputs": [],
   "source": [
    "# on usage and expenditure\n",
    "cust_desc = df_new.groupby('cust_profile').agg({'max_order':['mean', 'max', 'min'], 'prices': ['mean', 'max', 'min']})"
   ]
  },
  {
   "cell_type": "code",
   "execution_count": 211,
   "id": "ed3ea25c-e01b-4faa-aeef-3a19731a1331",
   "metadata": {},
   "outputs": [
    {
     "data": {
      "text/html": [
       "<div>\n",
       "<style scoped>\n",
       "    .dataframe tbody tr th:only-of-type {\n",
       "        vertical-align: middle;\n",
       "    }\n",
       "\n",
       "    .dataframe tbody tr th {\n",
       "        vertical-align: top;\n",
       "    }\n",
       "\n",
       "    .dataframe thead tr th {\n",
       "        text-align: left;\n",
       "    }\n",
       "\n",
       "    .dataframe thead tr:last-of-type th {\n",
       "        text-align: right;\n",
       "    }\n",
       "</style>\n",
       "<table border=\"1\" class=\"dataframe\">\n",
       "  <thead>\n",
       "    <tr>\n",
       "      <th></th>\n",
       "      <th colspan=\"3\" halign=\"left\">max_order</th>\n",
       "      <th colspan=\"3\" halign=\"left\">prices</th>\n",
       "    </tr>\n",
       "    <tr>\n",
       "      <th></th>\n",
       "      <th>mean</th>\n",
       "      <th>max</th>\n",
       "      <th>min</th>\n",
       "      <th>mean</th>\n",
       "      <th>max</th>\n",
       "      <th>min</th>\n",
       "    </tr>\n",
       "    <tr>\n",
       "      <th>cust_profile</th>\n",
       "      <th></th>\n",
       "      <th></th>\n",
       "      <th></th>\n",
       "      <th></th>\n",
       "      <th></th>\n",
       "      <th></th>\n",
       "    </tr>\n",
       "  </thead>\n",
       "  <tbody>\n",
       "    <tr>\n",
       "      <th>Older family</th>\n",
       "      <td>34.198088</td>\n",
       "      <td>99</td>\n",
       "      <td>5</td>\n",
       "      <td>7.792906</td>\n",
       "      <td>25.0</td>\n",
       "      <td>1.0</td>\n",
       "    </tr>\n",
       "    <tr>\n",
       "      <th>Single adult</th>\n",
       "      <td>34.939428</td>\n",
       "      <td>99</td>\n",
       "      <td>5</td>\n",
       "      <td>7.794956</td>\n",
       "      <td>25.0</td>\n",
       "      <td>1.0</td>\n",
       "    </tr>\n",
       "    <tr>\n",
       "      <th>Single youth</th>\n",
       "      <td>34.205649</td>\n",
       "      <td>99</td>\n",
       "      <td>5</td>\n",
       "      <td>7.779906</td>\n",
       "      <td>25.0</td>\n",
       "      <td>1.0</td>\n",
       "    </tr>\n",
       "    <tr>\n",
       "      <th>Young family</th>\n",
       "      <td>34.598401</td>\n",
       "      <td>99</td>\n",
       "      <td>5</td>\n",
       "      <td>7.787441</td>\n",
       "      <td>25.0</td>\n",
       "      <td>1.0</td>\n",
       "    </tr>\n",
       "  </tbody>\n",
       "</table>\n",
       "</div>"
      ],
      "text/plain": [
       "              max_order            prices           \n",
       "                   mean max min      mean   max  min\n",
       "cust_profile                                        \n",
       "Older family  34.198088  99   5  7.792906  25.0  1.0\n",
       "Single adult  34.939428  99   5  7.794956  25.0  1.0\n",
       "Single youth  34.205649  99   5  7.779906  25.0  1.0\n",
       "Young family  34.598401  99   5  7.787441  25.0  1.0"
      ]
     },
     "execution_count": 211,
     "metadata": {},
     "output_type": "execute_result"
    }
   ],
   "source": [
    "cust_desc"
   ]
  },
  {
   "cell_type": "code",
   "execution_count": 213,
   "id": "24266787-ff3a-4e7b-aa67-73cf0062b6c3",
   "metadata": {},
   "outputs": [],
   "source": [
    "# export to excel\n",
    "cust_desc.to_clipboard()"
   ]
  },
  {
   "cell_type": "markdown",
   "id": "c91f5f41-6d51-4cba-88db-5a9adbc5bd72",
   "metadata": {},
   "source": [
    "The mean of max_order across all profiles are relatively the same, with the \"single adult\" group ordering slightly more times.\n",
    "The mean of prices across all profiles are also relatively similar, with the older 'older family' and 'single adult' group spending slightly more."
   ]
  },
  {
   "cell_type": "markdown",
   "id": "488ab27d-5e72-4e0c-9310-333b9721fea8",
   "metadata": {},
   "source": [
    "## Ordering habits by region"
   ]
  },
  {
   "cell_type": "code",
   "execution_count": 216,
   "id": "2c225c4a-11d5-4523-b402-8767066170b1",
   "metadata": {},
   "outputs": [],
   "source": [
    "region_freq = pd.crosstab(df_new['region'], df_new['frequency_flag'], dropna=False, normalize='index')"
   ]
  },
  {
   "cell_type": "code",
   "execution_count": 217,
   "id": "b144d049-45c4-4d90-a8c4-6f5a7a312e30",
   "metadata": {},
   "outputs": [
    {
     "data": {
      "text/html": [
       "<div>\n",
       "<style scoped>\n",
       "    .dataframe tbody tr th:only-of-type {\n",
       "        vertical-align: middle;\n",
       "    }\n",
       "\n",
       "    .dataframe tbody tr th {\n",
       "        vertical-align: top;\n",
       "    }\n",
       "\n",
       "    .dataframe thead th {\n",
       "        text-align: right;\n",
       "    }\n",
       "</style>\n",
       "<table border=\"1\" class=\"dataframe\">\n",
       "  <thead>\n",
       "    <tr style=\"text-align: right;\">\n",
       "      <th>frequency_flag</th>\n",
       "      <th>Frequent customer</th>\n",
       "      <th>Non-frequent customer</th>\n",
       "      <th>Regular customer</th>\n",
       "    </tr>\n",
       "    <tr>\n",
       "      <th>region</th>\n",
       "      <th></th>\n",
       "      <th></th>\n",
       "      <th></th>\n",
       "    </tr>\n",
       "  </thead>\n",
       "  <tbody>\n",
       "    <tr>\n",
       "      <th>Midwest</th>\n",
       "      <td>0.679665</td>\n",
       "      <td>0.095026</td>\n",
       "      <td>0.225310</td>\n",
       "    </tr>\n",
       "    <tr>\n",
       "      <th>Northeast</th>\n",
       "      <td>0.684574</td>\n",
       "      <td>0.090931</td>\n",
       "      <td>0.224495</td>\n",
       "    </tr>\n",
       "    <tr>\n",
       "      <th>South</th>\n",
       "      <td>0.686034</td>\n",
       "      <td>0.093880</td>\n",
       "      <td>0.220087</td>\n",
       "    </tr>\n",
       "    <tr>\n",
       "      <th>West</th>\n",
       "      <td>0.688048</td>\n",
       "      <td>0.093353</td>\n",
       "      <td>0.218599</td>\n",
       "    </tr>\n",
       "  </tbody>\n",
       "</table>\n",
       "</div>"
      ],
      "text/plain": [
       "frequency_flag  Frequent customer  Non-frequent customer  Regular customer\n",
       "region                                                                    \n",
       "Midwest                  0.679665               0.095026          0.225310\n",
       "Northeast                0.684574               0.090931          0.224495\n",
       "South                    0.686034               0.093880          0.220087\n",
       "West                     0.688048               0.093353          0.218599"
      ]
     },
     "execution_count": 217,
     "metadata": {},
     "output_type": "execute_result"
    }
   ],
   "source": [
    "region_freq"
   ]
  },
  {
   "cell_type": "code",
   "execution_count": 185,
   "id": "53552616-4e9a-42fe-aa0b-6b7d52ef59bf",
   "metadata": {},
   "outputs": [],
   "source": [
    "# export\n",
    "region_freq.to_clipboard()"
   ]
  },
  {
   "cell_type": "markdown",
   "id": "6212fdc0-e927-4bdc-9b7e-c66c9d6628ac",
   "metadata": {},
   "source": [
    "## Ordering habits and age/ status"
   ]
  },
  {
   "cell_type": "markdown",
   "id": "d91b2f6f-ea23-489e-80d6-cde242fb7a6f",
   "metadata": {},
   "source": [
    "From a previous analysis (in 4.1 Visualizations), we have learned that there is no relationship between age and number of dependants (in other words, family status)."
   ]
  },
  {
   "cell_type": "code",
   "execution_count": 229,
   "id": "62c30f32-1ea5-42b4-b8fa-7430f36f6f52",
   "metadata": {},
   "outputs": [],
   "source": [
    "fam_price = pd.crosstab(df_new['fam_status'], df_new['price_range'], dropna=False, normalize='index')"
   ]
  },
  {
   "cell_type": "code",
   "execution_count": 230,
   "id": "d23f865f-b3e4-4208-b35d-e129b12b2040",
   "metadata": {},
   "outputs": [
    {
     "data": {
      "text/html": [
       "<div>\n",
       "<style scoped>\n",
       "    .dataframe tbody tr th:only-of-type {\n",
       "        vertical-align: middle;\n",
       "    }\n",
       "\n",
       "    .dataframe tbody tr th {\n",
       "        vertical-align: top;\n",
       "    }\n",
       "\n",
       "    .dataframe thead th {\n",
       "        text-align: right;\n",
       "    }\n",
       "</style>\n",
       "<table border=\"1\" class=\"dataframe\">\n",
       "  <thead>\n",
       "    <tr style=\"text-align: right;\">\n",
       "      <th>price_range</th>\n",
       "      <th>High-range product</th>\n",
       "      <th>Low-range product</th>\n",
       "      <th>Mid-range product</th>\n",
       "    </tr>\n",
       "    <tr>\n",
       "      <th>fam_status</th>\n",
       "      <th></th>\n",
       "      <th></th>\n",
       "      <th></th>\n",
       "    </tr>\n",
       "  </thead>\n",
       "  <tbody>\n",
       "    <tr>\n",
       "      <th>divorced/widowed</th>\n",
       "      <td>0.012904</td>\n",
       "      <td>0.312400</td>\n",
       "      <td>0.674696</td>\n",
       "    </tr>\n",
       "    <tr>\n",
       "      <th>living with parents and siblings</th>\n",
       "      <td>0.012826</td>\n",
       "      <td>0.311785</td>\n",
       "      <td>0.675389</td>\n",
       "    </tr>\n",
       "    <tr>\n",
       "      <th>married</th>\n",
       "      <td>0.012946</td>\n",
       "      <td>0.312449</td>\n",
       "      <td>0.674605</td>\n",
       "    </tr>\n",
       "    <tr>\n",
       "      <th>single</th>\n",
       "      <td>0.012430</td>\n",
       "      <td>0.312667</td>\n",
       "      <td>0.674903</td>\n",
       "    </tr>\n",
       "  </tbody>\n",
       "</table>\n",
       "</div>"
      ],
      "text/plain": [
       "price_range                       High-range product  Low-range product  \\\n",
       "fam_status                                                                \n",
       "divorced/widowed                            0.012904           0.312400   \n",
       "living with parents and siblings            0.012826           0.311785   \n",
       "married                                     0.012946           0.312449   \n",
       "single                                      0.012430           0.312667   \n",
       "\n",
       "price_range                       Mid-range product  \n",
       "fam_status                                           \n",
       "divorced/widowed                           0.674696  \n",
       "living with parents and siblings           0.675389  \n",
       "married                                    0.674605  \n",
       "single                                     0.674903  "
      ]
     },
     "execution_count": 230,
     "metadata": {},
     "output_type": "execute_result"
    }
   ],
   "source": [
    "fam_price"
   ]
  },
  {
   "cell_type": "code",
   "execution_count": 231,
   "id": "9fec23bd-19b5-4f58-adb3-60899fe34342",
   "metadata": {},
   "outputs": [],
   "source": [
    "# export table\n",
    "fam_price.to_clipboard()"
   ]
  },
  {
   "cell_type": "code",
   "execution_count": 232,
   "id": "edcb7a8a-dc4d-4c5f-818e-2f72eb2df8dd",
   "metadata": {},
   "outputs": [],
   "source": [
    "fam_freq = pd.crosstab(df_new['fam_status'], df_new['frequency_flag'], dropna=False, normalize='index')"
   ]
  },
  {
   "cell_type": "code",
   "execution_count": 233,
   "id": "e366cf7d-e27c-4833-ac2f-2280a825994d",
   "metadata": {},
   "outputs": [
    {
     "data": {
      "text/html": [
       "<div>\n",
       "<style scoped>\n",
       "    .dataframe tbody tr th:only-of-type {\n",
       "        vertical-align: middle;\n",
       "    }\n",
       "\n",
       "    .dataframe tbody tr th {\n",
       "        vertical-align: top;\n",
       "    }\n",
       "\n",
       "    .dataframe thead th {\n",
       "        text-align: right;\n",
       "    }\n",
       "</style>\n",
       "<table border=\"1\" class=\"dataframe\">\n",
       "  <thead>\n",
       "    <tr style=\"text-align: right;\">\n",
       "      <th>frequency_flag</th>\n",
       "      <th>Frequent customer</th>\n",
       "      <th>Non-frequent customer</th>\n",
       "      <th>Regular customer</th>\n",
       "    </tr>\n",
       "    <tr>\n",
       "      <th>fam_status</th>\n",
       "      <th></th>\n",
       "      <th></th>\n",
       "      <th></th>\n",
       "    </tr>\n",
       "  </thead>\n",
       "  <tbody>\n",
       "    <tr>\n",
       "      <th>divorced/widowed</th>\n",
       "      <td>0.687689</td>\n",
       "      <td>0.092215</td>\n",
       "      <td>0.220096</td>\n",
       "    </tr>\n",
       "    <tr>\n",
       "      <th>living with parents and siblings</th>\n",
       "      <td>0.695742</td>\n",
       "      <td>0.093606</td>\n",
       "      <td>0.210652</td>\n",
       "    </tr>\n",
       "    <tr>\n",
       "      <th>married</th>\n",
       "      <td>0.684742</td>\n",
       "      <td>0.093812</td>\n",
       "      <td>0.221446</td>\n",
       "    </tr>\n",
       "    <tr>\n",
       "      <th>single</th>\n",
       "      <td>0.680356</td>\n",
       "      <td>0.092763</td>\n",
       "      <td>0.226881</td>\n",
       "    </tr>\n",
       "  </tbody>\n",
       "</table>\n",
       "</div>"
      ],
      "text/plain": [
       "frequency_flag                    Frequent customer  Non-frequent customer  \\\n",
       "fam_status                                                                   \n",
       "divorced/widowed                           0.687689               0.092215   \n",
       "living with parents and siblings           0.695742               0.093606   \n",
       "married                                    0.684742               0.093812   \n",
       "single                                     0.680356               0.092763   \n",
       "\n",
       "frequency_flag                    Regular customer  \n",
       "fam_status                                          \n",
       "divorced/widowed                          0.220096  \n",
       "living with parents and siblings          0.210652  \n",
       "married                                   0.221446  \n",
       "single                                    0.226881  "
      ]
     },
     "execution_count": 233,
     "metadata": {},
     "output_type": "execute_result"
    }
   ],
   "source": [
    "fam_freq"
   ]
  },
  {
   "cell_type": "code",
   "execution_count": 234,
   "id": "f44b9bcb-13fc-44ce-b8a2-ef0d0ffc6dc1",
   "metadata": {},
   "outputs": [],
   "source": [
    "# export table\n",
    "fam_freq.to_clipboard()"
   ]
  },
  {
   "cell_type": "markdown",
   "id": "3279598d-f218-4e9d-8af4-3edad43404ac",
   "metadata": {},
   "source": [
    "## Crosstab on departments"
   ]
  },
  {
   "cell_type": "code",
   "execution_count": 218,
   "id": "710ce47f-8454-4a8c-b0e1-2228519273b8",
   "metadata": {},
   "outputs": [],
   "source": [
    "# on types of orders\n",
    "cust_dep = pd.crosstab(df_new['department_id'], df_new['cust_profile'], dropna=False, normalize='columns')"
   ]
  },
  {
   "cell_type": "code",
   "execution_count": 219,
   "id": "593b7aae-e12f-4da0-9f44-37b30e41619b",
   "metadata": {},
   "outputs": [
    {
     "data": {
      "text/html": [
       "<div>\n",
       "<style scoped>\n",
       "    .dataframe tbody tr th:only-of-type {\n",
       "        vertical-align: middle;\n",
       "    }\n",
       "\n",
       "    .dataframe tbody tr th {\n",
       "        vertical-align: top;\n",
       "    }\n",
       "\n",
       "    .dataframe thead th {\n",
       "        text-align: right;\n",
       "    }\n",
       "</style>\n",
       "<table border=\"1\" class=\"dataframe\">\n",
       "  <thead>\n",
       "    <tr style=\"text-align: right;\">\n",
       "      <th>cust_profile</th>\n",
       "      <th>Older family</th>\n",
       "      <th>Single adult</th>\n",
       "      <th>Single youth</th>\n",
       "      <th>Young family</th>\n",
       "    </tr>\n",
       "    <tr>\n",
       "      <th>department_id</th>\n",
       "      <th></th>\n",
       "      <th></th>\n",
       "      <th></th>\n",
       "      <th></th>\n",
       "    </tr>\n",
       "  </thead>\n",
       "  <tbody>\n",
       "    <tr>\n",
       "      <th>1</th>\n",
       "      <td>0.068585</td>\n",
       "      <td>0.069076</td>\n",
       "      <td>0.067177</td>\n",
       "      <td>0.068526</td>\n",
       "    </tr>\n",
       "    <tr>\n",
       "      <th>2</th>\n",
       "      <td>0.001100</td>\n",
       "      <td>0.001102</td>\n",
       "      <td>0.001168</td>\n",
       "      <td>0.001118</td>\n",
       "    </tr>\n",
       "    <tr>\n",
       "      <th>3</th>\n",
       "      <td>0.036216</td>\n",
       "      <td>0.036351</td>\n",
       "      <td>0.036369</td>\n",
       "      <td>0.036015</td>\n",
       "    </tr>\n",
       "    <tr>\n",
       "      <th>4</th>\n",
       "      <td>0.292775</td>\n",
       "      <td>0.293856</td>\n",
       "      <td>0.294248</td>\n",
       "      <td>0.293273</td>\n",
       "    </tr>\n",
       "    <tr>\n",
       "      <th>5</th>\n",
       "      <td>0.004516</td>\n",
       "      <td>0.004784</td>\n",
       "      <td>0.004713</td>\n",
       "      <td>0.004865</td>\n",
       "    </tr>\n",
       "    <tr>\n",
       "      <th>6</th>\n",
       "      <td>0.008198</td>\n",
       "      <td>0.008266</td>\n",
       "      <td>0.008441</td>\n",
       "      <td>0.008333</td>\n",
       "    </tr>\n",
       "    <tr>\n",
       "      <th>7</th>\n",
       "      <td>0.083680</td>\n",
       "      <td>0.083331</td>\n",
       "      <td>0.083469</td>\n",
       "      <td>0.081660</td>\n",
       "    </tr>\n",
       "    <tr>\n",
       "      <th>8</th>\n",
       "      <td>0.002989</td>\n",
       "      <td>0.003042</td>\n",
       "      <td>0.003063</td>\n",
       "      <td>0.002994</td>\n",
       "    </tr>\n",
       "    <tr>\n",
       "      <th>9</th>\n",
       "      <td>0.026576</td>\n",
       "      <td>0.026434</td>\n",
       "      <td>0.026328</td>\n",
       "      <td>0.026649</td>\n",
       "    </tr>\n",
       "    <tr>\n",
       "      <th>10</th>\n",
       "      <td>0.001091</td>\n",
       "      <td>0.001037</td>\n",
       "      <td>0.001027</td>\n",
       "      <td>0.001105</td>\n",
       "    </tr>\n",
       "    <tr>\n",
       "      <th>11</th>\n",
       "      <td>0.013764</td>\n",
       "      <td>0.013654</td>\n",
       "      <td>0.013844</td>\n",
       "      <td>0.013577</td>\n",
       "    </tr>\n",
       "    <tr>\n",
       "      <th>12</th>\n",
       "      <td>0.021983</td>\n",
       "      <td>0.021574</td>\n",
       "      <td>0.021179</td>\n",
       "      <td>0.021785</td>\n",
       "    </tr>\n",
       "    <tr>\n",
       "      <th>13</th>\n",
       "      <td>0.057775</td>\n",
       "      <td>0.057537</td>\n",
       "      <td>0.057029</td>\n",
       "      <td>0.057414</td>\n",
       "    </tr>\n",
       "    <tr>\n",
       "      <th>14</th>\n",
       "      <td>0.021673</td>\n",
       "      <td>0.021541</td>\n",
       "      <td>0.021438</td>\n",
       "      <td>0.021801</td>\n",
       "    </tr>\n",
       "    <tr>\n",
       "      <th>15</th>\n",
       "      <td>0.032761</td>\n",
       "      <td>0.032166</td>\n",
       "      <td>0.032908</td>\n",
       "      <td>0.032782</td>\n",
       "    </tr>\n",
       "    <tr>\n",
       "      <th>16</th>\n",
       "      <td>0.166684</td>\n",
       "      <td>0.167048</td>\n",
       "      <td>0.167580</td>\n",
       "      <td>0.168069</td>\n",
       "    </tr>\n",
       "    <tr>\n",
       "      <th>17</th>\n",
       "      <td>0.022891</td>\n",
       "      <td>0.022039</td>\n",
       "      <td>0.022321</td>\n",
       "      <td>0.022515</td>\n",
       "    </tr>\n",
       "    <tr>\n",
       "      <th>18</th>\n",
       "      <td>0.013259</td>\n",
       "      <td>0.013256</td>\n",
       "      <td>0.013519</td>\n",
       "      <td>0.013154</td>\n",
       "    </tr>\n",
       "    <tr>\n",
       "      <th>19</th>\n",
       "      <td>0.089063</td>\n",
       "      <td>0.089165</td>\n",
       "      <td>0.089284</td>\n",
       "      <td>0.089958</td>\n",
       "    </tr>\n",
       "    <tr>\n",
       "      <th>20</th>\n",
       "      <td>0.032309</td>\n",
       "      <td>0.032758</td>\n",
       "      <td>0.032702</td>\n",
       "      <td>0.032319</td>\n",
       "    </tr>\n",
       "    <tr>\n",
       "      <th>21</th>\n",
       "      <td>0.002111</td>\n",
       "      <td>0.001983</td>\n",
       "      <td>0.002194</td>\n",
       "      <td>0.002088</td>\n",
       "    </tr>\n",
       "  </tbody>\n",
       "</table>\n",
       "</div>"
      ],
      "text/plain": [
       "cust_profile   Older family  Single adult  Single youth  Young family\n",
       "department_id                                                        \n",
       "1                  0.068585      0.069076      0.067177      0.068526\n",
       "2                  0.001100      0.001102      0.001168      0.001118\n",
       "3                  0.036216      0.036351      0.036369      0.036015\n",
       "4                  0.292775      0.293856      0.294248      0.293273\n",
       "5                  0.004516      0.004784      0.004713      0.004865\n",
       "6                  0.008198      0.008266      0.008441      0.008333\n",
       "7                  0.083680      0.083331      0.083469      0.081660\n",
       "8                  0.002989      0.003042      0.003063      0.002994\n",
       "9                  0.026576      0.026434      0.026328      0.026649\n",
       "10                 0.001091      0.001037      0.001027      0.001105\n",
       "11                 0.013764      0.013654      0.013844      0.013577\n",
       "12                 0.021983      0.021574      0.021179      0.021785\n",
       "13                 0.057775      0.057537      0.057029      0.057414\n",
       "14                 0.021673      0.021541      0.021438      0.021801\n",
       "15                 0.032761      0.032166      0.032908      0.032782\n",
       "16                 0.166684      0.167048      0.167580      0.168069\n",
       "17                 0.022891      0.022039      0.022321      0.022515\n",
       "18                 0.013259      0.013256      0.013519      0.013154\n",
       "19                 0.089063      0.089165      0.089284      0.089958\n",
       "20                 0.032309      0.032758      0.032702      0.032319\n",
       "21                 0.002111      0.001983      0.002194      0.002088"
      ]
     },
     "execution_count": 219,
     "metadata": {},
     "output_type": "execute_result"
    }
   ],
   "source": [
    "cust_dep"
   ]
  },
  {
   "cell_type": "markdown",
   "id": "5c52342b-2b04-4841-ac76-5bbaf8207697",
   "metadata": {},
   "source": [
    "Babies products are dep 18. Alcohol is dep 5. We would expect that young parents would order more baby products and single adults and youths would order more alcholic products. \n",
    "It does not seem that the young parents are spending more on baby products, in fact they order less than the other groups. The most orders for alcohol products is surprisingly in the young family group. This group includes under 21 youths who live with family, but as they are under 21, they cannot purchase alcohol. So, the alcohol purchases must be attributed to young couples with children.\n",
    "All profiles spend the most on 16 and 4, which are produce, dairy and eggs."
   ]
  },
  {
   "cell_type": "code",
   "execution_count": 220,
   "id": "52f20c8e-e822-40a3-8bb8-e9aa67673362",
   "metadata": {},
   "outputs": [
    {
     "name": "stdout",
     "output_type": "stream",
     "text": [
      "{'department': 'dairy eggs'}\n",
      "{'department': 'produce'}\n"
     ]
    }
   ],
   "source": [
    "print(dep_dict.get(16))\n",
    "print(dep_dict.get(4))"
   ]
  },
  {
   "cell_type": "code",
   "execution_count": 221,
   "id": "9e5c32b5-95f5-45ab-b964-2d847a5f1b01",
   "metadata": {},
   "outputs": [],
   "source": [
    "# export to excel\n",
    "cust_dep.to_clipboard()"
   ]
  },
  {
   "cell_type": "code",
   "execution_count": 235,
   "id": "34ee1266-4c2b-4d19-b41f-3197486a2bdd",
   "metadata": {},
   "outputs": [],
   "source": [
    "babies = df_new[df_new['department_id']==18]"
   ]
  },
  {
   "cell_type": "code",
   "execution_count": 237,
   "id": "b661f7f3-a7a9-45bf-b6de-559af09bd00b",
   "metadata": {},
   "outputs": [
    {
     "data": {
      "text/html": [
       "<div>\n",
       "<style scoped>\n",
       "    .dataframe tbody tr th:only-of-type {\n",
       "        vertical-align: middle;\n",
       "    }\n",
       "\n",
       "    .dataframe tbody tr th {\n",
       "        vertical-align: top;\n",
       "    }\n",
       "\n",
       "    .dataframe thead th {\n",
       "        text-align: right;\n",
       "    }\n",
       "</style>\n",
       "<table border=\"1\" class=\"dataframe\">\n",
       "  <thead>\n",
       "    <tr style=\"text-align: right;\">\n",
       "      <th></th>\n",
       "      <th>user_id</th>\n",
       "      <th>gender</th>\n",
       "      <th>state</th>\n",
       "      <th>age</th>\n",
       "      <th>n_dependants</th>\n",
       "      <th>fam_status</th>\n",
       "      <th>income</th>\n",
       "      <th>order_id</th>\n",
       "      <th>order_number</th>\n",
       "      <th>orders_day_of_the_week</th>\n",
       "      <th>...</th>\n",
       "      <th>max_order</th>\n",
       "      <th>loyalty_flag</th>\n",
       "      <th>avg_price</th>\n",
       "      <th>spending_flag</th>\n",
       "      <th>median_days</th>\n",
       "      <th>frequency_flag</th>\n",
       "      <th>_merge</th>\n",
       "      <th>region</th>\n",
       "      <th>exclusion</th>\n",
       "      <th>cust_profile</th>\n",
       "    </tr>\n",
       "  </thead>\n",
       "  <tbody>\n",
       "    <tr>\n",
       "      <th>954</th>\n",
       "      <td>82820</td>\n",
       "      <td>Male</td>\n",
       "      <td>Virginia</td>\n",
       "      <td>26</td>\n",
       "      <td>2</td>\n",
       "      <td>married</td>\n",
       "      <td>32072</td>\n",
       "      <td>2005868</td>\n",
       "      <td>15</td>\n",
       "      <td>4</td>\n",
       "      <td>...</td>\n",
       "      <td>19</td>\n",
       "      <td>Regular customer</td>\n",
       "      <td>6.740984</td>\n",
       "      <td>Low spender</td>\n",
       "      <td>11.0</td>\n",
       "      <td>Regular customer</td>\n",
       "      <td>both</td>\n",
       "      <td>South</td>\n",
       "      <td>include</td>\n",
       "      <td>Young family</td>\n",
       "    </tr>\n",
       "    <tr>\n",
       "      <th>967</th>\n",
       "      <td>82820</td>\n",
       "      <td>Male</td>\n",
       "      <td>Virginia</td>\n",
       "      <td>26</td>\n",
       "      <td>2</td>\n",
       "      <td>married</td>\n",
       "      <td>32072</td>\n",
       "      <td>2096371</td>\n",
       "      <td>16</td>\n",
       "      <td>2</td>\n",
       "      <td>...</td>\n",
       "      <td>19</td>\n",
       "      <td>Regular customer</td>\n",
       "      <td>6.740984</td>\n",
       "      <td>Low spender</td>\n",
       "      <td>11.0</td>\n",
       "      <td>Regular customer</td>\n",
       "      <td>both</td>\n",
       "      <td>South</td>\n",
       "      <td>include</td>\n",
       "      <td>Young family</td>\n",
       "    </tr>\n",
       "    <tr>\n",
       "      <th>968</th>\n",
       "      <td>82820</td>\n",
       "      <td>Male</td>\n",
       "      <td>Virginia</td>\n",
       "      <td>26</td>\n",
       "      <td>2</td>\n",
       "      <td>married</td>\n",
       "      <td>32072</td>\n",
       "      <td>2096371</td>\n",
       "      <td>16</td>\n",
       "      <td>2</td>\n",
       "      <td>...</td>\n",
       "      <td>19</td>\n",
       "      <td>Regular customer</td>\n",
       "      <td>6.740984</td>\n",
       "      <td>Low spender</td>\n",
       "      <td>11.0</td>\n",
       "      <td>Regular customer</td>\n",
       "      <td>both</td>\n",
       "      <td>South</td>\n",
       "      <td>include</td>\n",
       "      <td>Young family</td>\n",
       "    </tr>\n",
       "    <tr>\n",
       "      <th>1626</th>\n",
       "      <td>516</td>\n",
       "      <td>Male</td>\n",
       "      <td>Colorado</td>\n",
       "      <td>51</td>\n",
       "      <td>2</td>\n",
       "      <td>married</td>\n",
       "      <td>146559</td>\n",
       "      <td>535981</td>\n",
       "      <td>10</td>\n",
       "      <td>5</td>\n",
       "      <td>...</td>\n",
       "      <td>93</td>\n",
       "      <td>Loyal customer</td>\n",
       "      <td>8.300444</td>\n",
       "      <td>Low spender</td>\n",
       "      <td>4.5</td>\n",
       "      <td>Frequent customer</td>\n",
       "      <td>both</td>\n",
       "      <td>West</td>\n",
       "      <td>include</td>\n",
       "      <td>Older family</td>\n",
       "    </tr>\n",
       "    <tr>\n",
       "      <th>2167</th>\n",
       "      <td>516</td>\n",
       "      <td>Male</td>\n",
       "      <td>Colorado</td>\n",
       "      <td>51</td>\n",
       "      <td>2</td>\n",
       "      <td>married</td>\n",
       "      <td>146559</td>\n",
       "      <td>703825</td>\n",
       "      <td>72</td>\n",
       "      <td>5</td>\n",
       "      <td>...</td>\n",
       "      <td>93</td>\n",
       "      <td>Loyal customer</td>\n",
       "      <td>8.300444</td>\n",
       "      <td>Low spender</td>\n",
       "      <td>4.5</td>\n",
       "      <td>Frequent customer</td>\n",
       "      <td>both</td>\n",
       "      <td>West</td>\n",
       "      <td>include</td>\n",
       "      <td>Older family</td>\n",
       "    </tr>\n",
       "  </tbody>\n",
       "</table>\n",
       "<p>5 rows × 33 columns</p>\n",
       "</div>"
      ],
      "text/plain": [
       "     user_id gender     state  age  n_dependants fam_status  income  order_id  \\\n",
       "954    82820   Male  Virginia   26             2    married   32072   2005868   \n",
       "967    82820   Male  Virginia   26             2    married   32072   2096371   \n",
       "968    82820   Male  Virginia   26             2    married   32072   2096371   \n",
       "1626     516   Male  Colorado   51             2    married  146559    535981   \n",
       "2167     516   Male  Colorado   51             2    married  146559    703825   \n",
       "\n",
       "      order_number  orders_day_of_the_week  ...  max_order      loyalty_flag  \\\n",
       "954             15                       4  ...         19  Regular customer   \n",
       "967             16                       2  ...         19  Regular customer   \n",
       "968             16                       2  ...         19  Regular customer   \n",
       "1626            10                       5  ...         93    Loyal customer   \n",
       "2167            72                       5  ...         93    Loyal customer   \n",
       "\n",
       "      avg_price  spending_flag  median_days     frequency_flag  _merge  \\\n",
       "954    6.740984    Low spender         11.0   Regular customer    both   \n",
       "967    6.740984    Low spender         11.0   Regular customer    both   \n",
       "968    6.740984    Low spender         11.0   Regular customer    both   \n",
       "1626   8.300444    Low spender          4.5  Frequent customer    both   \n",
       "2167   8.300444    Low spender          4.5  Frequent customer    both   \n",
       "\n",
       "      region  exclusion  cust_profile  \n",
       "954    South    include  Young family  \n",
       "967    South    include  Young family  \n",
       "968    South    include  Young family  \n",
       "1626    West    include  Older family  \n",
       "2167    West    include  Older family  \n",
       "\n",
       "[5 rows x 33 columns]"
      ]
     },
     "execution_count": 237,
     "metadata": {},
     "output_type": "execute_result"
    }
   ],
   "source": [
    "babies.head()"
   ]
  },
  {
   "cell_type": "code",
   "execution_count": 240,
   "id": "4c7dc3cf-3bcf-4c18-b83c-60f7fb7c7e54",
   "metadata": {},
   "outputs": [
    {
     "data": {
      "image/png": "[encoded data removed]",
      "text/plain": [
       "<Figure size 640x480 with 1 Axes>"
      ]
     },
     "metadata": {},
     "output_type": "display_data"
    }
   ],
   "source": [
    "baby_bar = babies['cust_profile'].value_counts().plot.bar(title='Customer profiles that order Baby Products', xlabel='Profile')"
   ]
  },
  {
   "cell_type": "code",
   "execution_count": 241,
   "id": "4460a2ce-9bbc-4f05-bdff-20e29fbfcd73",
   "metadata": {},
   "outputs": [],
   "source": [
    "# save figure\n",
    "baby_bar.figure.savefig(os.path.join(path, '04 Analysis', 'Visualizations', 'baby_prod_bar.png'), bbox_inches='tight')"
   ]
  },
  {
   "cell_type": "code",
   "execution_count": 242,
   "id": "d49c6c5c-39e1-4ae7-a3b2-3ec58f77f57f",
   "metadata": {},
   "outputs": [],
   "source": [
    "alcohol = df_new[df_new['department_id']==5]"
   ]
  },
  {
   "cell_type": "code",
   "execution_count": 243,
   "id": "ebafadca-dfd5-49ad-b113-948b945995b8",
   "metadata": {},
   "outputs": [
    {
     "data": {
      "text/html": [
       "<div>\n",
       "<style scoped>\n",
       "    .dataframe tbody tr th:only-of-type {\n",
       "        vertical-align: middle;\n",
       "    }\n",
       "\n",
       "    .dataframe tbody tr th {\n",
       "        vertical-align: top;\n",
       "    }\n",
       "\n",
       "    .dataframe thead th {\n",
       "        text-align: right;\n",
       "    }\n",
       "</style>\n",
       "<table border=\"1\" class=\"dataframe\">\n",
       "  <thead>\n",
       "    <tr style=\"text-align: right;\">\n",
       "      <th></th>\n",
       "      <th>user_id</th>\n",
       "      <th>gender</th>\n",
       "      <th>state</th>\n",
       "      <th>age</th>\n",
       "      <th>n_dependants</th>\n",
       "      <th>fam_status</th>\n",
       "      <th>income</th>\n",
       "      <th>order_id</th>\n",
       "      <th>order_number</th>\n",
       "      <th>orders_day_of_the_week</th>\n",
       "      <th>...</th>\n",
       "      <th>max_order</th>\n",
       "      <th>loyalty_flag</th>\n",
       "      <th>avg_price</th>\n",
       "      <th>spending_flag</th>\n",
       "      <th>median_days</th>\n",
       "      <th>frequency_flag</th>\n",
       "      <th>_merge</th>\n",
       "      <th>region</th>\n",
       "      <th>exclusion</th>\n",
       "      <th>cust_profile</th>\n",
       "    </tr>\n",
       "  </thead>\n",
       "  <tbody>\n",
       "    <tr>\n",
       "      <th>216</th>\n",
       "      <td>125935</td>\n",
       "      <td>Female</td>\n",
       "      <td>Iowa</td>\n",
       "      <td>40</td>\n",
       "      <td>0</td>\n",
       "      <td>single</td>\n",
       "      <td>42049</td>\n",
       "      <td>250014</td>\n",
       "      <td>5</td>\n",
       "      <td>3</td>\n",
       "      <td>...</td>\n",
       "      <td>18</td>\n",
       "      <td>Regular customer</td>\n",
       "      <td>6.371795</td>\n",
       "      <td>Low spender</td>\n",
       "      <td>18.0</td>\n",
       "      <td>Regular customer</td>\n",
       "      <td>both</td>\n",
       "      <td>Midwest</td>\n",
       "      <td>include</td>\n",
       "      <td>Single youth</td>\n",
       "    </tr>\n",
       "    <tr>\n",
       "      <th>229</th>\n",
       "      <td>125935</td>\n",
       "      <td>Female</td>\n",
       "      <td>Iowa</td>\n",
       "      <td>40</td>\n",
       "      <td>0</td>\n",
       "      <td>single</td>\n",
       "      <td>42049</td>\n",
       "      <td>2509569</td>\n",
       "      <td>8</td>\n",
       "      <td>3</td>\n",
       "      <td>...</td>\n",
       "      <td>18</td>\n",
       "      <td>Regular customer</td>\n",
       "      <td>6.371795</td>\n",
       "      <td>Low spender</td>\n",
       "      <td>18.0</td>\n",
       "      <td>Regular customer</td>\n",
       "      <td>both</td>\n",
       "      <td>Midwest</td>\n",
       "      <td>include</td>\n",
       "      <td>Single youth</td>\n",
       "    </tr>\n",
       "    <tr>\n",
       "      <th>231</th>\n",
       "      <td>125935</td>\n",
       "      <td>Female</td>\n",
       "      <td>Iowa</td>\n",
       "      <td>40</td>\n",
       "      <td>0</td>\n",
       "      <td>single</td>\n",
       "      <td>42049</td>\n",
       "      <td>2509569</td>\n",
       "      <td>8</td>\n",
       "      <td>3</td>\n",
       "      <td>...</td>\n",
       "      <td>18</td>\n",
       "      <td>Regular customer</td>\n",
       "      <td>6.371795</td>\n",
       "      <td>Low spender</td>\n",
       "      <td>18.0</td>\n",
       "      <td>Regular customer</td>\n",
       "      <td>both</td>\n",
       "      <td>Midwest</td>\n",
       "      <td>include</td>\n",
       "      <td>Single youth</td>\n",
       "    </tr>\n",
       "    <tr>\n",
       "      <th>244</th>\n",
       "      <td>125935</td>\n",
       "      <td>Female</td>\n",
       "      <td>Iowa</td>\n",
       "      <td>40</td>\n",
       "      <td>0</td>\n",
       "      <td>single</td>\n",
       "      <td>42049</td>\n",
       "      <td>2817140</td>\n",
       "      <td>10</td>\n",
       "      <td>1</td>\n",
       "      <td>...</td>\n",
       "      <td>18</td>\n",
       "      <td>Regular customer</td>\n",
       "      <td>6.371795</td>\n",
       "      <td>Low spender</td>\n",
       "      <td>18.0</td>\n",
       "      <td>Regular customer</td>\n",
       "      <td>both</td>\n",
       "      <td>Midwest</td>\n",
       "      <td>include</td>\n",
       "      <td>Single youth</td>\n",
       "    </tr>\n",
       "    <tr>\n",
       "      <th>247</th>\n",
       "      <td>125935</td>\n",
       "      <td>Female</td>\n",
       "      <td>Iowa</td>\n",
       "      <td>40</td>\n",
       "      <td>0</td>\n",
       "      <td>single</td>\n",
       "      <td>42049</td>\n",
       "      <td>2817140</td>\n",
       "      <td>10</td>\n",
       "      <td>1</td>\n",
       "      <td>...</td>\n",
       "      <td>18</td>\n",
       "      <td>Regular customer</td>\n",
       "      <td>6.371795</td>\n",
       "      <td>Low spender</td>\n",
       "      <td>18.0</td>\n",
       "      <td>Regular customer</td>\n",
       "      <td>both</td>\n",
       "      <td>Midwest</td>\n",
       "      <td>include</td>\n",
       "      <td>Single youth</td>\n",
       "    </tr>\n",
       "  </tbody>\n",
       "</table>\n",
       "<p>5 rows × 33 columns</p>\n",
       "</div>"
      ],
      "text/plain": [
       "    user_id  gender state  age  n_dependants fam_status  income  order_id  \\\n",
       "216  125935  Female  Iowa   40             0     single   42049    250014   \n",
       "229  125935  Female  Iowa   40             0     single   42049   2509569   \n",
       "231  125935  Female  Iowa   40             0     single   42049   2509569   \n",
       "244  125935  Female  Iowa   40             0     single   42049   2817140   \n",
       "247  125935  Female  Iowa   40             0     single   42049   2817140   \n",
       "\n",
       "     order_number  orders_day_of_the_week  ...  max_order      loyalty_flag  \\\n",
       "216             5                       3  ...         18  Regular customer   \n",
       "229             8                       3  ...         18  Regular customer   \n",
       "231             8                       3  ...         18  Regular customer   \n",
       "244            10                       1  ...         18  Regular customer   \n",
       "247            10                       1  ...         18  Regular customer   \n",
       "\n",
       "     avg_price  spending_flag  median_days    frequency_flag  _merge   region  \\\n",
       "216   6.371795    Low spender         18.0  Regular customer    both  Midwest   \n",
       "229   6.371795    Low spender         18.0  Regular customer    both  Midwest   \n",
       "231   6.371795    Low spender         18.0  Regular customer    both  Midwest   \n",
       "244   6.371795    Low spender         18.0  Regular customer    both  Midwest   \n",
       "247   6.371795    Low spender         18.0  Regular customer    both  Midwest   \n",
       "\n",
       "     exclusion  cust_profile  \n",
       "216    include  Single youth  \n",
       "229    include  Single youth  \n",
       "231    include  Single youth  \n",
       "244    include  Single youth  \n",
       "247    include  Single youth  \n",
       "\n",
       "[5 rows x 33 columns]"
      ]
     },
     "execution_count": 243,
     "metadata": {},
     "output_type": "execute_result"
    }
   ],
   "source": [
    "alcohol.head()"
   ]
  },
  {
   "cell_type": "code",
   "execution_count": 244,
   "id": "5958510e-30b6-486d-85aa-228428fd2e5e",
   "metadata": {},
   "outputs": [
    {
     "data": {
      "image/png": "[encoded data removed]",
      "text/plain": [
       "<Figure size 640x480 with 1 Axes>"
      ]
     },
     "metadata": {},
     "output_type": "display_data"
    }
   ],
   "source": [
    "alc_bar = alcohol['cust_profile'].value_counts().plot.bar(title='Customer profiles that order Alcohol Products', xlabel='Profile')"
   ]
  },
  {
   "cell_type": "markdown",
   "id": "8b5f8ee1-ccc1-417c-8fb1-3c2cbaf00fad",
   "metadata": {},
   "source": [
    "Since this is also the same as the distribution of customer profiles, it does not tell us how the groups are ordering. There are always the most customers in the 'older family' group."
   ]
  },
  {
   "cell_type": "markdown",
   "id": "a2c672a5-35d7-4aa5-a4ef-e448582061c7",
   "metadata": {},
   "source": [
    "## Crosstab on Regions"
   ]
  },
  {
   "cell_type": "code",
   "execution_count": 222,
   "id": "b74b6a61-ef0b-4820-85b9-66689204e702",
   "metadata": {},
   "outputs": [],
   "source": [
    "cust_region = pd.crosstab(df_new['cust_profile'], df_new['region'], dropna=False, normalize='columns')"
   ]
  },
  {
   "cell_type": "code",
   "execution_count": 223,
   "id": "27f49cab-6a09-4db2-bc63-db7724c5b1c4",
   "metadata": {},
   "outputs": [
    {
     "data": {
      "text/html": [
       "<div>\n",
       "<style scoped>\n",
       "    .dataframe tbody tr th:only-of-type {\n",
       "        vertical-align: middle;\n",
       "    }\n",
       "\n",
       "    .dataframe tbody tr th {\n",
       "        vertical-align: top;\n",
       "    }\n",
       "\n",
       "    .dataframe thead th {\n",
       "        text-align: right;\n",
       "    }\n",
       "</style>\n",
       "<table border=\"1\" class=\"dataframe\">\n",
       "  <thead>\n",
       "    <tr style=\"text-align: right;\">\n",
       "      <th>region</th>\n",
       "      <th>Midwest</th>\n",
       "      <th>Northeast</th>\n",
       "      <th>South</th>\n",
       "      <th>West</th>\n",
       "    </tr>\n",
       "    <tr>\n",
       "      <th>cust_profile</th>\n",
       "      <th></th>\n",
       "      <th></th>\n",
       "      <th></th>\n",
       "      <th></th>\n",
       "    </tr>\n",
       "  </thead>\n",
       "  <tbody>\n",
       "    <tr>\n",
       "      <th>Older family</th>\n",
       "      <td>0.481174</td>\n",
       "      <td>0.484198</td>\n",
       "      <td>0.475451</td>\n",
       "      <td>0.481155</td>\n",
       "    </tr>\n",
       "    <tr>\n",
       "      <th>Single adult</th>\n",
       "      <td>0.161985</td>\n",
       "      <td>0.158254</td>\n",
       "      <td>0.158437</td>\n",
       "      <td>0.162060</td>\n",
       "    </tr>\n",
       "    <tr>\n",
       "      <th>Single youth</th>\n",
       "      <td>0.089039</td>\n",
       "      <td>0.089607</td>\n",
       "      <td>0.091965</td>\n",
       "      <td>0.087769</td>\n",
       "    </tr>\n",
       "    <tr>\n",
       "      <th>Young family</th>\n",
       "      <td>0.267802</td>\n",
       "      <td>0.267941</td>\n",
       "      <td>0.274146</td>\n",
       "      <td>0.269017</td>\n",
       "    </tr>\n",
       "  </tbody>\n",
       "</table>\n",
       "</div>"
      ],
      "text/plain": [
       "region         Midwest  Northeast     South      West\n",
       "cust_profile                                         \n",
       "Older family  0.481174   0.484198  0.475451  0.481155\n",
       "Single adult  0.161985   0.158254  0.158437  0.162060\n",
       "Single youth  0.089039   0.089607  0.091965  0.087769\n",
       "Young family  0.267802   0.267941  0.274146  0.269017"
      ]
     },
     "execution_count": 223,
     "metadata": {},
     "output_type": "execute_result"
    }
   ],
   "source": [
    "cust_region"
   ]
  },
  {
   "cell_type": "code",
   "execution_count": 224,
   "id": "6d8a7298-c66d-4817-a2d0-3d9d2ce11991",
   "metadata": {},
   "outputs": [],
   "source": [
    "# export\n",
    "cust_region.to_clipboard()"
   ]
  },
  {
   "cell_type": "code",
   "execution_count": null,
   "id": "f8663c0b-a787-4c12-bdba-5411ef0956a0",
   "metadata": {},
   "outputs": [],
   "source": []
  }
 ],
 "metadata": {
  "kernelspec": {
   "display_name": "Python [conda env:base] *",
   "language": "python",
   "name": "conda-base-py"
  },
  "language_info": {
   "codemirror_mode": {
    "name": "ipython",
    "version": 3
   },
   "file_extension": ".py",
   "mimetype": "text/x-python",
   "name": "python",
   "nbconvert_exporter": "python",
   "pygments_lexer": "ipython3",
   "version": "3.12.7"
  }
 },
 "nbformat": 4,
 "nbformat_minor": 5
}
